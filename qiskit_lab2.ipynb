{
  "nbformat": 4,
  "nbformat_minor": 0,
  "metadata": {
    "colab": {
      "provenance": [],
      "authorship_tag": "ABX9TyOBETO9bmSYrVrBO6qD7tAJ",
      "include_colab_link": true
    },
    "kernelspec": {
      "name": "python3",
      "display_name": "Python 3"
    },
    "language_info": {
      "name": "python"
    }
  },
  "cells": [
    {
      "cell_type": "markdown",
      "metadata": {
        "id": "view-in-github",
        "colab_type": "text"
      },
      "source": [
        "<a href=\"https://colab.research.google.com/github/shhesterka04/q_prj/blob/main/qiskit_lab2.ipynb\" target=\"_parent\"><img src=\"https://colab.research.google.com/assets/colab-badge.svg\" alt=\"Open In Colab\"/></a>"
      ]
    },
    {
      "cell_type": "markdown",
      "source": [
        "# [Lab 2 Single Qubit Gates](https://learn.qiskit.org/course/ch-labs/lab-2-single-qubit-gates)"
      ],
      "metadata": {
        "id": "CoV3F8rBjkf9"
      }
    },
    {
      "cell_type": "code",
      "source": [
        "!pip install qiskit \n",
        "!pip install pylatexenc\n",
        "%matplotlib inline"
      ],
      "metadata": {
        "id": "R-oXzzLpkd_-"
      },
      "execution_count": null,
      "outputs": []
    },
    {
      "cell_type": "code",
      "source": [
        "!pip install ibm_quantum_widgets"
      ],
      "metadata": {
        "id": "zd_xqS29nAhr"
      },
      "execution_count": null,
      "outputs": []
    },
    {
      "cell_type": "code",
      "execution_count": 7,
      "metadata": {
        "colab": {
          "base_uri": "https://localhost:8080/"
        },
        "id": "5I4Gy456jh0v",
        "outputId": "87f5c437-6ce1-442d-d182-b90f48746dd4"
      },
      "outputs": [
        {
          "output_type": "stream",
          "name": "stderr",
          "text": [
            "configrc.store_credentials:WARNING:2023-03-15 14:11:37,614: Credentials already present. Set overwrite=True to overwrite.\n",
            "ibmqfactory.load_account:WARNING:2023-03-15 14:11:38,166: Credentials are already in use. The existing account in the session will be replaced.\n"
          ]
        }
      ],
      "source": [
        "import numpy as np\n",
        "\n",
        "# Importing standard Qiskit libraries\n",
        "from qiskit import QuantumCircuit, transpile, Aer, IBMQ, execute\n",
        "from qiskit.tools.jupyter import *\n",
        "from qiskit.visualization import *\n",
        "from ibm_quantum_widgets import CircuitComposer\n",
        "from qiskit.providers.aer import QasmSimulator\n",
        "\n",
        "# Loading your IBM Quantum account(s)\n",
        "IBMQ.save_account('cc30eda37f5b230f99ec2762fe6538c0219bb557f0ebcf5d1be7b9a95a6d59d28bcaf68db3c591d9fff99ff1bd1da2ded55febeb205ddcebce0aa64db01aaa1a')\n",
        "provider = IBMQ.load_account()\n",
        "backend = Aer.get_backend('statevector_simulator')"
      ]
    },
    {
      "cell_type": "markdown",
      "source": [
        "# Part 1 - Effect of Single-Qubit Gates on state |0>\n",
        "**Goal**\n",
        "\n",
        "Create quantum circuits to apply various single qubit gates on state |0> and understand the change in state and phase of the qubit."
      ],
      "metadata": {
        "id": "bXD2yHOWnNV-"
      }
    },
    {
      "cell_type": "code",
      "source": [],
      "metadata": {
        "id": "Gt_5Ne1Amxrj"
      },
      "execution_count": null,
      "outputs": []
    }
  ]
}