{
  "nbformat": 4,
  "nbformat_minor": 0,
  "metadata": {
    "colab": {
      "provenance": [],
      "authorship_tag": "ABX9TyNuZBIHG1lYou2r0dz+dYBM",
      "include_colab_link": true
    },
    "kernelspec": {
      "name": "python3",
      "display_name": "Python 3"
    },
    "language_info": {
      "name": "python"
    }
  },
  "cells": [
    {
      "cell_type": "markdown",
      "metadata": {
        "id": "view-in-github",
        "colab_type": "text"
      },
      "source": [
        "<a href=\"https://colab.research.google.com/github/shhesterka04/q_prj/blob/main/qiskit_lab1.ipynb\" target=\"_parent\"><img src=\"https://colab.research.google.com/assets/colab-badge.svg\" alt=\"Open In Colab\"/></a>"
      ]
    },
    {
      "cell_type": "markdown",
      "source": [
        "# [Lab 1 Quantum Circuits](https://learn.qiskit.org/course/ch-labs/lab-1-quantum-circuits)"
      ],
      "metadata": {
        "id": "2o_qM9CLToVR"
      }
    },
    {
      "cell_type": "code",
      "source": [
        "!pip install qiskit \n",
        "!pip install pylatexenc"
      ],
      "metadata": {
        "id": "dpU9CslcHzbR"
      },
      "execution_count": null,
      "outputs": []
    },
    {
      "cell_type": "code",
      "source": [
        "%matplotlib inline"
      ],
      "metadata": {
        "id": "dQXEZATETlbw"
      },
      "execution_count": 2,
      "outputs": []
    },
    {
      "cell_type": "code",
      "source": [
        "from qiskit import *\n",
        "from qiskit.visualization import plot_histogram\n",
        "import numpy as np"
      ],
      "metadata": {
        "id": "jtBSKsF_Tve_"
      },
      "execution_count": 3,
      "outputs": []
    },
    {
      "cell_type": "markdown",
      "source": [
        "# Goal\n",
        "\n",
        "Create quantum circuit functions that can compute the \n",
        "- XOR, \n",
        "- AND\n",
        "- NAND\n",
        "- OR gates using the NOT gate (expressed as x in Qiskit)\n",
        "- the CNOT gate (expressed as cx in Qiskit)\n",
        "- the Toffoli gate (expressed as ccx in Qiskit)."
      ],
      "metadata": {
        "id": "vkZri92_UEKs"
      }
    },
    {
      "cell_type": "code",
      "source": [
        "def NOT(inp):\n",
        "  \"\"\"\n",
        "  Реализация NOT гейта\n",
        "  На ввод идет inp (str) - кубит с индексом 0\n",
        "  На вывод идет противоположное значение кубита с индексом 0\n",
        "  \"\"\"\n",
        "  qc = QuantumCircuit(1,1) # 1 кубит и 1 бит\n",
        "  qc.reset(0)\n",
        "\n",
        "  if inp == \"1\":\n",
        "    qc.x(0)\n"
      ],
      "metadata": {
        "id": "EPKTgMtQT9yl"
      },
      "execution_count": 6,
      "outputs": []
    },
    {
      "cell_type": "code",
      "source": [],
      "metadata": {
        "id": "PpL2ZYpEU1HD"
      },
      "execution_count": null,
      "outputs": []
    }
  ]
}