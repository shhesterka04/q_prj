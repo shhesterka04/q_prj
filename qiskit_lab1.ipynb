{
  "nbformat": 4,
  "nbformat_minor": 0,
  "metadata": {
    "colab": {
      "provenance": [],
      "authorship_tag": "ABX9TyO4wy1H1JMFdvQ/VUyqswQb",
      "include_colab_link": true
    },
    "kernelspec": {
      "name": "python3",
      "display_name": "Python 3"
    },
    "language_info": {
      "name": "python"
    },
    "widgets": {
      "application/vnd.jupyter.widget-state+json": {
        "a15c8ca0ecdb4fefab384f879a42a57b": {
          "model_module": "@jupyter-widgets/controls",
          "model_name": "VBoxModel",
          "model_module_version": "1.5.0",
          "state": {
            "_dom_classes": [],
            "_model_module": "@jupyter-widgets/controls",
            "_model_module_version": "1.5.0",
            "_model_name": "VBoxModel",
            "_view_count": null,
            "_view_module": "@jupyter-widgets/controls",
            "_view_module_version": "1.5.0",
            "_view_name": "VBoxView",
            "box_style": "",
            "children": [
              "IPY_MODEL_499830069a704b878ce8d3a20374a61e",
              "IPY_MODEL_0cbbc0ed796e4d589dbd4f783ea1a3ef"
            ],
            "layout": "IPY_MODEL_318ec33099834838a787e77e8c121c57"
          }
        },
        "499830069a704b878ce8d3a20374a61e": {
          "model_module": "@jupyter-widgets/controls",
          "model_name": "HTMLModel",
          "model_module_version": "1.5.0",
          "state": {
            "_dom_classes": [],
            "_model_module": "@jupyter-widgets/controls",
            "_model_module_version": "1.5.0",
            "_model_name": "HTMLModel",
            "_view_count": null,
            "_view_module": "@jupyter-widgets/controls",
            "_view_module_version": "1.5.0",
            "_view_name": "HTMLView",
            "description": "",
            "description_tooltip": null,
            "layout": "IPY_MODEL_057d94ef45bc47ffa06199a833c50de1",
            "placeholder": "​",
            "style": "IPY_MODEL_c35d18b4b1cc49efac4ed78a1afbffea",
            "value": "<h1 style='color:#ffffff;background-color:#000000;padding-top: 1%;padding-bottom: 1%;padding-left: 1%; margin-top: 0px'>ibmq_jakarta</h1>"
          }
        },
        "0cbbc0ed796e4d589dbd4f783ea1a3ef": {
          "model_module": "@jupyter-widgets/controls",
          "model_name": "TabModel",
          "model_module_version": "1.5.0",
          "state": {
            "_dom_classes": [],
            "_model_module": "@jupyter-widgets/controls",
            "_model_module_version": "1.5.0",
            "_model_name": "TabModel",
            "_titles": {
              "0": "Configuration",
              "1": "Qubit Properties",
              "2": "Multi-Qubit Gates",
              "3": "Error Map",
              "4": "Job History"
            },
            "_view_count": null,
            "_view_module": "@jupyter-widgets/controls",
            "_view_module_version": "1.5.0",
            "_view_name": "TabView",
            "box_style": "",
            "children": [
              "IPY_MODEL_262f49c6c17a4e2689bfa3bf9a5afb1d",
              "IPY_MODEL_1298bacf8576455da69fde614d1c5c00",
              "IPY_MODEL_f61b89a0d47346a18012ef7fb35c3da3",
              "IPY_MODEL_d5884f32cd22404cae54d425967cf5d9",
              "IPY_MODEL_428dbaf6efce4242b0d0cebc833364a5"
            ],
            "layout": "IPY_MODEL_f64562de885e404bb855e92cfcec9208",
            "selected_index": 0
          }
        },
        "318ec33099834838a787e77e8c121c57": {
          "model_module": "@jupyter-widgets/base",
          "model_name": "LayoutModel",
          "model_module_version": "1.2.0",
          "state": {
            "_model_module": "@jupyter-widgets/base",
            "_model_module_version": "1.2.0",
            "_model_name": "LayoutModel",
            "_view_count": null,
            "_view_module": "@jupyter-widgets/base",
            "_view_module_version": "1.2.0",
            "_view_name": "LayoutView",
            "align_content": null,
            "align_items": null,
            "align_self": null,
            "border": "4px solid #000000",
            "bottom": null,
            "display": null,
            "flex": null,
            "flex_flow": null,
            "grid_area": null,
            "grid_auto_columns": null,
            "grid_auto_flow": null,
            "grid_auto_rows": null,
            "grid_column": null,
            "grid_gap": null,
            "grid_row": null,
            "grid_template_areas": null,
            "grid_template_columns": null,
            "grid_template_rows": null,
            "height": null,
            "justify_content": null,
            "justify_items": null,
            "left": null,
            "margin": null,
            "max_height": "650px",
            "max_width": null,
            "min_height": "650px",
            "min_width": null,
            "object_fit": null,
            "object_position": null,
            "order": null,
            "overflow": null,
            "overflow_x": null,
            "overflow_y": "hidden",
            "padding": null,
            "right": null,
            "top": null,
            "visibility": null,
            "width": null
          }
        },
        "057d94ef45bc47ffa06199a833c50de1": {
          "model_module": "@jupyter-widgets/base",
          "model_name": "LayoutModel",
          "model_module_version": "1.2.0",
          "state": {
            "_model_module": "@jupyter-widgets/base",
            "_model_module_version": "1.2.0",
            "_model_name": "LayoutModel",
            "_view_count": null,
            "_view_module": "@jupyter-widgets/base",
            "_view_module_version": "1.2.0",
            "_view_name": "LayoutView",
            "align_content": null,
            "align_items": null,
            "align_self": null,
            "border": null,
            "bottom": null,
            "display": null,
            "flex": null,
            "flex_flow": null,
            "grid_area": null,
            "grid_auto_columns": null,
            "grid_auto_flow": null,
            "grid_auto_rows": null,
            "grid_column": null,
            "grid_gap": null,
            "grid_row": null,
            "grid_template_areas": null,
            "grid_template_columns": null,
            "grid_template_rows": null,
            "height": null,
            "justify_content": null,
            "justify_items": null,
            "left": null,
            "margin": "0px 0px 0px 0px",
            "max_height": null,
            "max_width": null,
            "min_height": null,
            "min_width": null,
            "object_fit": null,
            "object_position": null,
            "order": null,
            "overflow": null,
            "overflow_x": null,
            "overflow_y": null,
            "padding": null,
            "right": null,
            "top": null,
            "visibility": null,
            "width": null
          }
        },
        "c35d18b4b1cc49efac4ed78a1afbffea": {
          "model_module": "@jupyter-widgets/controls",
          "model_name": "DescriptionStyleModel",
          "model_module_version": "1.5.0",
          "state": {
            "_model_module": "@jupyter-widgets/controls",
            "_model_module_version": "1.5.0",
            "_model_name": "DescriptionStyleModel",
            "_view_count": null,
            "_view_module": "@jupyter-widgets/base",
            "_view_module_version": "1.2.0",
            "_view_name": "StyleView",
            "description_width": ""
          }
        },
        "262f49c6c17a4e2689bfa3bf9a5afb1d": {
          "model_module": "@jupyter-widgets/controls",
          "model_name": "GridBoxModel",
          "model_module_version": "1.5.0",
          "state": {
            "_dom_classes": [],
            "_model_module": "@jupyter-widgets/controls",
            "_model_module_version": "1.5.0",
            "_model_name": "GridBoxModel",
            "_view_count": null,
            "_view_module": "@jupyter-widgets/controls",
            "_view_module_version": "1.5.0",
            "_view_name": "GridBoxView",
            "box_style": "",
            "children": [
              "IPY_MODEL_2c3d3fae6c954e91b204107c71eb0c54",
              "IPY_MODEL_5af960f9f40249beacd0b8700672d387",
              "IPY_MODEL_bafca431a96248b492bda76b89f99864"
            ],
            "layout": "IPY_MODEL_9ab4e8cf371c4ce8b5d27582c96a148e"
          }
        },
        "1298bacf8576455da69fde614d1c5c00": {
          "model_module": "@jupyter-widgets/controls",
          "model_name": "VBoxModel",
          "model_module_version": "1.5.0",
          "state": {
            "_dom_classes": [],
            "_model_module": "@jupyter-widgets/controls",
            "_model_module_version": "1.5.0",
            "_model_name": "VBoxModel",
            "_view_count": null,
            "_view_module": "@jupyter-widgets/controls",
            "_view_module_version": "1.5.0",
            "_view_name": "VBoxView",
            "box_style": "",
            "children": [
              "IPY_MODEL_4ac51e8bb9da4b6bb04afdff99d18b1d",
              "IPY_MODEL_cbb07d06454e4c1d945403e2db4af58e"
            ],
            "layout": "IPY_MODEL_ac52feaa5ed14527bcd8eb88c234572e"
          }
        },
        "f61b89a0d47346a18012ef7fb35c3da3": {
          "model_module": "@jupyter-widgets/controls",
          "model_name": "GridBoxModel",
          "model_module_version": "1.5.0",
          "state": {
            "_dom_classes": [],
            "_model_module": "@jupyter-widgets/controls",
            "_model_module_version": "1.5.0",
            "_model_name": "GridBoxModel",
            "_view_count": null,
            "_view_module": "@jupyter-widgets/controls",
            "_view_module_version": "1.5.0",
            "_view_name": "GridBoxView",
            "box_style": "",
            "children": [
              "IPY_MODEL_11fd4004237041ea8b1dbf0dc2ca4774",
              "IPY_MODEL_01798c2fc7824330aab39070ca5ab986",
              "IPY_MODEL_9139bf67f0f84e2bb8be639e45570dc2",
              "IPY_MODEL_b8a3180dd2d6476da53e8e3a471f7ea0"
            ],
            "layout": "IPY_MODEL_d24ae432166d40c1841af9ebe0c875f8"
          }
        },
        "d5884f32cd22404cae54d425967cf5d9": {
          "model_module": "@jupyter-widgets/output",
          "model_name": "OutputModel",
          "model_module_version": "1.0.0",
          "state": {
            "_dom_classes": [],
            "_model_module": "@jupyter-widgets/output",
            "_model_module_version": "1.0.0",
            "_model_name": "OutputModel",
            "_view_count": null,
            "_view_module": "@jupyter-widgets/output",
            "_view_module_version": "1.0.0",
            "_view_name": "OutputView",
            "layout": "IPY_MODEL_11a0256126f74b03a04dd0fd7d8cd0c2",
            "msg_id": "",
            "outputs": [
              {
                "output_type": "display_data",
                "data": {
                  "text/plain": "<Figure size 792x648 with 5 Axes>",
                  "image/png": "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\n"
                },
                "metadata": {}
              }
            ]
          }
        },
        "428dbaf6efce4242b0d0cebc833364a5": {
          "model_module": "@jupyter-widgets/controls",
          "model_name": "TabModel",
          "model_module_version": "1.5.0",
          "state": {
            "_dom_classes": [],
            "_model_module": "@jupyter-widgets/controls",
            "_model_module_version": "1.5.0",
            "_model_name": "TabModel",
            "_titles": {},
            "_view_count": null,
            "_view_module": "@jupyter-widgets/controls",
            "_view_module_version": "1.5.0",
            "_view_name": "TabView",
            "box_style": "",
            "children": [],
            "layout": "IPY_MODEL_a2b0464e7f5243078793635f06907a7c",
            "selected_index": 0
          }
        },
        "f64562de885e404bb855e92cfcec9208": {
          "model_module": "@jupyter-widgets/base",
          "model_name": "LayoutModel",
          "model_module_version": "1.2.0",
          "state": {
            "_model_module": "@jupyter-widgets/base",
            "_model_module_version": "1.2.0",
            "_model_name": "LayoutModel",
            "_view_count": null,
            "_view_module": "@jupyter-widgets/base",
            "_view_module_version": "1.2.0",
            "_view_name": "LayoutView",
            "align_content": null,
            "align_items": null,
            "align_self": null,
            "border": null,
            "bottom": null,
            "display": null,
            "flex": null,
            "flex_flow": null,
            "grid_area": null,
            "grid_auto_columns": null,
            "grid_auto_flow": null,
            "grid_auto_rows": null,
            "grid_column": null,
            "grid_gap": null,
            "grid_row": null,
            "grid_template_areas": null,
            "grid_template_columns": null,
            "grid_template_rows": null,
            "height": null,
            "justify_content": null,
            "justify_items": null,
            "left": null,
            "margin": null,
            "max_height": null,
            "max_width": null,
            "min_height": null,
            "min_width": null,
            "object_fit": null,
            "object_position": null,
            "order": null,
            "overflow": null,
            "overflow_x": null,
            "overflow_y": "scroll",
            "padding": null,
            "right": null,
            "top": null,
            "visibility": null,
            "width": null
          }
        },
        "2c3d3fae6c954e91b204107c71eb0c54": {
          "model_module": "@jupyter-widgets/controls",
          "model_name": "HTMLMathModel",
          "model_module_version": "1.5.0",
          "state": {
            "_dom_classes": [],
            "_model_module": "@jupyter-widgets/controls",
            "_model_module_version": "1.5.0",
            "_model_name": "HTMLMathModel",
            "_view_count": null,
            "_view_module": "@jupyter-widgets/controls",
            "_view_module_version": "1.5.0",
            "_view_name": "HTMLMathView",
            "description": "",
            "description_tooltip": null,
            "layout": "IPY_MODEL_80a392ac77e943e893a6be9181644f75",
            "placeholder": "​",
            "style": "IPY_MODEL_9dd299c273284ffa8f7dcf9034c56835",
            "value": "<table><style>\ntable {\n    border-collapse: collapse;\n    width: auto;\n}\n\nth, td {\n    text-align: left;\n    padding: 8px;\n}\n\ntr:nth-child(even) {background-color: #f6f6f6;}\n</style><tr><th>Property</th><th>Value</th></tr><tr><td><font style='font-weight:bold'>n_qubits</font></td><td>7</td></tr><tr><td><font style='font-weight:bold'>quantum_volume</font></td><td>16</td></tr><tr><td><font style='font-weight:bold'>operational</font></td><td>True</td></tr><tr><td><font style='font-weight:bold'>status_msg</font></td><td>active</td></tr><tr><td><font style='font-weight:bold'>pending_jobs</font></td><td>2</td></tr><tr><td><font style='font-weight:bold'>backend_version</font></td><td>1.2.8</td></tr><tr><td><font style='font-weight:bold'>basis_gates</font></td><td>['id', 'rz', 'sx', 'x', 'cx', 'reset']</td></tr><tr><td><font style='font-weight:bold'>max_shots</font></td><td>20000</td></tr><tr><td><font style='font-weight:bold'>max_experiments</font></td><td>100</td></tr></table>"
          }
        },
        "5af960f9f40249beacd0b8700672d387": {
          "model_module": "@jupyter-widgets/output",
          "model_name": "OutputModel",
          "model_module_version": "1.0.0",
          "state": {
            "_dom_classes": [],
            "_model_module": "@jupyter-widgets/output",
            "_model_module_version": "1.0.0",
            "_model_name": "OutputModel",
            "_view_count": null,
            "_view_module": "@jupyter-widgets/output",
            "_view_module_version": "1.0.0",
            "_view_name": "OutputView",
            "layout": "IPY_MODEL_05130539f120450aa853b4f5ba7e26e4",
            "msg_id": "",
            "outputs": [
              {
                "output_type": "display_data",
                "data": {
                  "text/plain": "<Figure size 360x360 with 1 Axes>",
                  "image/png": "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\n"
                },
                "metadata": {}
              }
            ]
          }
        },
        "bafca431a96248b492bda76b89f99864": {
          "model_module": "@jupyter-widgets/controls",
          "model_name": "HTMLMathModel",
          "model_module_version": "1.5.0",
          "state": {
            "_dom_classes": [],
            "_model_module": "@jupyter-widgets/controls",
            "_model_module_version": "1.5.0",
            "_model_name": "HTMLMathModel",
            "_view_count": null,
            "_view_module": "@jupyter-widgets/controls",
            "_view_module_version": "1.5.0",
            "_view_name": "HTMLMathView",
            "description": "",
            "description_tooltip": null,
            "layout": "IPY_MODEL_060687e1918f4e4fa105612c2ecf303e",
            "placeholder": "​",
            "style": "IPY_MODEL_a2e969c8956c43a1bf4b2bd332e9dd01",
            "value": "<table><style>\ntable {\n    border-collapse: collapse;\n    width: auto;\n}\n\nth, td {\n    text-align: left;\n    padding: 8px;\n}\n\ntr:nth-child(even) {background-color: #f6f6f6;}\n</style><tr><th></th><th></th></tr><tr><td>processor_type</td><td>{'family': 'Falcon', 'revision': '5.11', 'segment': 'H'}</td></tr><tr><td>backend_name</td><td>ibmq_jakarta</td></tr><tr><td>local</td><td>False</td></tr><tr><td>online_date</td><td>2021-04-28 04:00:00+00:00</td></tr><tr><td>rep_delay_range</td><td>[0.0, 500.0]</td></tr><tr><td>dt</td><td>0.2222222222222222</td></tr><tr><td>n_uchannels</td><td>12</td></tr><tr><td>rep_times</td><td>[1000.0]</td></tr><tr><td>hamiltonian</td><td>$$\\begin{align} \\mathcal{H}/\\hbar = & \\sum_{i=0}^{6}\\left(\\frac{\\omega_{q,i}}{2}(\\mathbb{I}-\\sigma_i^{z})+\\frac{\\Delta_{i}}{2}(O_i^2-O_i)+\\Omega_{d,i}D_i(t)\\sigma_i^{X}\\right) \\\\ & + J_{0,1}(\\sigma_{0}^{+}\\sigma_{1}^{-}+\\sigma_{0}^{-}\\sigma_{1}^{+}) + J_{1,2}(\\sigma_{1}^{+}\\sigma_{2}^{-}+\\sigma_{1}^{-}\\sigma_{2}^{+}) + J_{4,5}(\\sigma_{4}^{+}\\sigma_{5}^{-}+\\sigma_{4}^{-}\\sigma_{5}^{+}) + J_{5,6}(\\sigma_{5}^{+}\\sigma_{6}^{-}+\\sigma_{5}^{-}\\sigma_{6}^{+}) \\\\ & + J_{1,3}(\\sigma_{1}^{+}\\sigma_{3}^{-}+\\sigma_{1}^{-}\\sigma_{3}^{+}) + J_{3,5}(\\sigma_{3}^{+}\\sigma_{5}^{-}+\\sigma_{3}^{-}\\sigma_{5}^{+}) \\\\ & + \\Omega_{d,0}(U_{0}^{(0,1)}(t))\\sigma_{0}^{X} + \\Omega_{d,1}(U_{1}^{(1,0)}(t)+U_{3}^{(1,3)}(t)+U_{2}^{(1,2)}(t))\\sigma_{1}^{X} \\\\ & + \\Omega_{d,2}(U_{4}^{(2,1)}(t))\\sigma_{2}^{X} + \\Omega_{d,3}(U_{5}^{(3,1)}(t)+U_{6}^{(3,5)}(t))\\sigma_{3}^{X} \\\\ & + \\Omega_{d,4}(U_{7}^{(4,5)}(t))\\sigma_{4}^{X} + \\Omega_{d,5}(U_{8}^{(5,3)}(t)+U_{10}^{(5,6)}(t)+U_{9}^{(5,4)}(t))\\sigma_{5}^{X} \\\\ & + \\Omega_{d,6}(U_{11}^{(6,5)}(t))\\sigma_{6}^{X} \\\\ \\end{align}$$</td></tr><tr><td>coupling_map</td><td>[[0, 1], [1, 0], [1, 2], [1, 3], [2, 1], [3, 1], [3, 5], [4, 5], [5, 3], [5, 4], [5, 6], [6, 5]]</td></tr><tr><td>pulse_num_channels</td><td>9</td></tr><tr><td>uchannels_enabled</td><td>True</td></tr><tr><td>conditional</td><td>False</td></tr><tr><td>url</td><td>None</td></tr><tr><td>dtm</td><td>0.2222222222222222</td></tr><tr><td>parametric_pulses</td><td>['gaussian', 'gaussian_square', 'gaussian_square_drag', 'drag', 'constant']</td></tr><tr><td>credits_required</td><td>True</td></tr><tr><td>supported_instructions</td><td>['cx', 'id', 'delay', 'measure', 'reset', 'rz', 'sx', 'x', 'if_else']</td></tr><tr><td>allow_object_storage</td><td>True</td></tr><tr><td>multi_meas_enabled</td><td>True</td></tr><tr><td>pulse_num_qubits</td><td>3</td></tr><tr><td>allow_q_object</td><td>True</td></tr><tr><td>meas_map</td><td>[[0, 1, 2, 3, 4, 5, 6]]</td></tr><tr><td>open_pulse</td><td>False</td></tr><tr><td>description</td><td>7 qubit device</td></tr><tr><td>conditional_latency</td><td>[]</td></tr><tr><td>qubit_channel_mapping</td><td>[['m0', 'd0', 'u0', 'u1'], ['u5', 'u1', 'u0', 'u4', 'u2', 'u3', 'm1', 'd1'], ['u4', 'u2', 'm2', 'd2'], ['u5', 'm3', 'u6', 'u3', 'd3', 'u8'], ['d4', 'u7', 'u9', 'm4'], ['d5', 'm5', 'u7', 'u6', 'u10', 'u11', 'u9', 'u8'], ['u10', 'u11', 'm6', 'd6']]</td></tr><tr><td>input_allowed</td><td>['job', 'runtime', 'qasm3']</td></tr><tr><td>measure_esp_enabled</td><td>False</td></tr><tr><td>channels</td><td>{'acquire0': {'operates': {'qubits': [0]}, 'purpose': 'acquire', 'type': 'acquire'}, 'acquire1': {'operates': {'qubits': [1]}, 'purpose': 'acquire', 'type': 'acquire'}, 'acquire2': {'operates': {'qubits': [2]}, 'purpose': 'acquire', 'type': 'acquire'}, 'acquire3': {'operates': {'qubits': [3]}, 'purpose': 'acquire', 'type': 'acquire'}, 'acquire4': {'operates': {'qubits': [4]}, 'purpose': 'acquire', 'type': 'acquire'}, 'acquire5': {'operates': {'qubits': [5]}, 'purpose': 'acquire', 'type': 'acquire'}, 'acquire6': {'operates': {'qubits': [6]}, 'purpose': 'acquire', 'type': 'acquire'}, 'd0': {'operates': {'qubits': [0]}, 'purpose': 'drive', 'type': 'drive'}, 'd1': {'operates': {'qubits': [1]}, 'purpose': 'drive', 'type': 'drive'}, 'd2': {'operates': {'qubits': [2]}, 'purpose': 'drive', 'type': 'drive'}, 'd3': {'operates': {'qubits': [3]}, 'purpose': 'drive', 'type': 'drive'}, 'd4': {'operates': {'qubits': [4]}, 'purpose': 'drive', 'type': 'drive'}, 'd5': {'operates': {'qubits': [5]}, 'purpose': 'drive', 'type': 'drive'}, 'd6': {'operates': {'qubits': [6]}, 'purpose': 'drive', 'type': 'drive'}, 'm0': {'operates': {'qubits': [0]}, 'purpose': 'measure', 'type': 'measure'}, 'm1': {'operates': {'qubits': [1]}, 'purpose': 'measure', 'type': 'measure'}, 'm2': {'operates': {'qubits': [2]}, 'purpose': 'measure', 'type': 'measure'}, 'm3': {'operates': {'qubits': [3]}, 'purpose': 'measure', 'type': 'measure'}, 'm4': {'operates': {'qubits': [4]}, 'purpose': 'measure', 'type': 'measure'}, 'm5': {'operates': {'qubits': [5]}, 'purpose': 'measure', 'type': 'measure'}, 'm6': {'operates': {'qubits': [6]}, 'purpose': 'measure', 'type': 'measure'}, 'u0': {'operates': {'qubits': [0, 1]}, 'purpose': 'cross-resonance', 'type': 'control'}, 'u1': {'operates': {'qubits': [1, 0]}, 'purpose': 'cross-resonance', 'type': 'control'}, 'u10': {'operates': {'qubits': [5, 6]}, 'purpose': 'cross-resonance', 'type': 'control'}, 'u11': {'operates': {'qubits': [6, 5]}, 'purpose': 'cross-resonance', 'type': 'control'}, 'u2': {'operates': {'qubits': [1, 2]}, 'purpose': 'cross-resonance', 'type': 'control'}, 'u3': {'operates': {'qubits': [1, 3]}, 'purpose': 'cross-resonance', 'type': 'control'}, 'u4': {'operates': {'qubits': [2, 1]}, 'purpose': 'cross-resonance', 'type': 'control'}, 'u5': {'operates': {'qubits': [3, 1]}, 'purpose': 'cross-resonance', 'type': 'control'}, 'u6': {'operates': {'qubits': [3, 5]}, 'purpose': 'cross-resonance', 'type': 'control'}, 'u7': {'operates': {'qubits': [4, 5]}, 'purpose': 'cross-resonance', 'type': 'control'}, 'u8': {'operates': {'qubits': [5, 3]}, 'purpose': 'cross-resonance', 'type': 'control'}, 'u9': {'operates': {'qubits': [5, 4]}, 'purpose': 'cross-resonance', 'type': 'control'}}</td></tr><tr><td>clops</td><td>2438</td></tr><tr><td>supported_features</td><td>['qobj', 'qasm3']</td></tr><tr><td>n_registers</td><td>1</td></tr><tr><td>acquisition_latency</td><td>[]</td></tr><tr><td>meas_levels</td><td>[1, 2]</td></tr><tr><td>simulator</td><td>False</td></tr><tr><td>qubit_lo_range</td><td>[[4.736519652597764, 5.736519652597764], [4.5144279227110875, 5.5144279227110875], [4.608413159257102, 5.608413159257102], [4.678148693620736, 5.678148693620736], [4.713012289720987, 5.713012289720987], [4.563331337993264, 5.563331337993264], [4.8006695085735345, 5.8006695085735345]]</td></tr><tr><td>memory</td><td>True</td></tr><tr><td>dynamic_reprate_enabled</td><td>True</td></tr><tr><td>default_rep_delay</td><td>250.0</td></tr><tr><td>parallel_compilation</td><td>True</td></tr><tr><td>timing_constraints</td><td>{'acquire_alignment': 16, 'granularity': 16, 'min_length': 64, 'pulse_alignment': 16}</td></tr><tr><td>u_channel_lo</td><td>[[{'q': 1, 'scale': (1+0j)}], [{'q': 0, 'scale': (1+0j)}], [{'q': 2, 'scale': (1+0j)}], [{'q': 3, 'scale': (1+0j)}], [{'q': 1, 'scale': (1+0j)}], [{'q': 1, 'scale': (1+0j)}], [{'q': 5, 'scale': (1+0j)}], [{'q': 5, 'scale': (1+0j)}], [{'q': 3, 'scale': (1+0j)}], [{'q': 4, 'scale': (1+0j)}], [{'q': 6, 'scale': (1+0j)}], [{'q': 5, 'scale': (1+0j)}]]</td></tr><tr><td>meas_kernels</td><td>['hw_qmfk']</td></tr><tr><td>discriminators</td><td>['hw_qmfk', 'linear_discriminator', 'quadratic_discriminator']</td></tr><tr><td>meas_lo_range</td><td>[[6.778492341000001, 7.778492341000001], [6.837882003000001, 7.837882003000001], [6.714947009, 7.714947009], [6.670476576, 7.670476576], [6.858519424000001, 7.858519424000001], [6.605023825000001, 7.605023825000001], [6.74238245, 7.742382450000001]]</td></tr><tr><td>live_data</td><td>False</td></tr><tr><td>sample_name</td><td>family: Falcon, revision: 5.11, segment: H</td></tr></table>"
          }
        },
        "9ab4e8cf371c4ce8b5d27582c96a148e": {
          "model_module": "@jupyter-widgets/base",
          "model_name": "LayoutModel",
          "model_module_version": "1.2.0",
          "state": {
            "_model_module": "@jupyter-widgets/base",
            "_model_module_version": "1.2.0",
            "_model_name": "LayoutModel",
            "_view_count": null,
            "_view_module": "@jupyter-widgets/base",
            "_view_module_version": "1.2.0",
            "_view_name": "LayoutView",
            "align_content": null,
            "align_items": null,
            "align_self": null,
            "border": null,
            "bottom": null,
            "display": null,
            "flex": null,
            "flex_flow": null,
            "grid_area": null,
            "grid_auto_columns": null,
            "grid_auto_flow": null,
            "grid_auto_rows": null,
            "grid_column": null,
            "grid_gap": "0px 0px",
            "grid_row": null,
            "grid_template_areas": "\n                               \"left right right right\"\n                               \"bottom bottom bottom bottom\"\n                               ",
            "grid_template_columns": "31% 23% 23% 23%",
            "grid_template_rows": "auto auto",
            "height": null,
            "justify_content": null,
            "justify_items": null,
            "left": null,
            "margin": null,
            "max_height": null,
            "max_width": null,
            "min_height": null,
            "min_width": null,
            "object_fit": null,
            "object_position": null,
            "order": null,
            "overflow": null,
            "overflow_x": null,
            "overflow_y": null,
            "padding": null,
            "right": null,
            "top": null,
            "visibility": null,
            "width": null
          }
        },
        "4ac51e8bb9da4b6bb04afdff99d18b1d": {
          "model_module": "@jupyter-widgets/controls",
          "model_name": "HTMLModel",
          "model_module_version": "1.5.0",
          "state": {
            "_dom_classes": [],
            "_model_module": "@jupyter-widgets/controls",
            "_model_module_version": "1.5.0",
            "_model_name": "HTMLModel",
            "_view_count": null,
            "_view_module": "@jupyter-widgets/controls",
            "_view_module_version": "1.5.0",
            "_view_name": "HTMLView",
            "description": "",
            "description_tooltip": null,
            "layout": "IPY_MODEL_57511d4686204ae7b8b44fbf72d99483",
            "placeholder": "​",
            "style": "IPY_MODEL_1830b465ee0643bc9655fc7efa3b4038",
            "value": "<div><font style='font-weight:bold'>last_update_date</font>: Tue 14 March 2023 at 21:13 UTC</div>"
          }
        },
        "cbb07d06454e4c1d945403e2db4af58e": {
          "model_module": "@jupyter-widgets/controls",
          "model_name": "HTMLModel",
          "model_module_version": "1.5.0",
          "state": {
            "_dom_classes": [],
            "_model_module": "@jupyter-widgets/controls",
            "_model_module_version": "1.5.0",
            "_model_name": "HTMLModel",
            "_view_count": null,
            "_view_module": "@jupyter-widgets/controls",
            "_view_module_version": "1.5.0",
            "_view_name": "HTMLView",
            "description": "",
            "description_tooltip": null,
            "layout": "IPY_MODEL_dc653c2ff2d84a258d06406e4fd1ed80",
            "placeholder": "​",
            "style": "IPY_MODEL_c3fc833886bb47c4bd41aa30b59b396c",
            "value": "<table><style>\ntable {\n    border-collapse: collapse;\n    width: auto;\n}\n\nth, td {\n    text-align: left;\n    padding: 8px;\n}\n\ntr:nth-child(even) {background-color: #f6f6f6;}\n</style><tr><th></th><th>Frequency</th><th>T1</th><th>T2</th><th>RZ</th><th>SX</th><th>X</th><th>Readout error</th></tr><tr><td><font style='font-weight:bold'>Q0</font></td><td>5.23652 GHz</td><td>158.90932 us</td><td>49.64454 us</td><td>0</td><td>0.0003</td><td>0.0003</td><td>0.0167 </td><tr><td><font style='font-weight:bold'>Q1</font></td><td>5.01443 GHz</td><td>133.76739 us</td><td>28.98219 us</td><td>0</td><td>0.00026</td><td>0.00026</td><td>0.0322 </td><tr><td><font style='font-weight:bold'>Q2</font></td><td>5.10841 GHz</td><td>232.64389 us</td><td>19.79247 us</td><td>0</td><td>0.00031</td><td>0.00031</td><td>0.0347 </td><tr><td><font style='font-weight:bold'>Q3</font></td><td>5.17815 GHz</td><td>128.87584 us</td><td>36.90866 us</td><td>0</td><td>0.00025</td><td>0.00025</td><td>0.0195 </td><tr><td><font style='font-weight:bold'>Q4</font></td><td>5.21301 GHz</td><td>86.24685 us</td><td>85.72969 us</td><td>0</td><td>0.00023</td><td>0.00023</td><td>0.0185 </td><tr><td><font style='font-weight:bold'>Q5</font></td><td>5.06333 GHz</td><td>71.97079 us</td><td>41.26078 us</td><td>0</td><td>0.00022</td><td>0.00022</td><td>0.0431 </td><tr><td><font style='font-weight:bold'>Q6</font></td><td>5.30067 GHz</td><td>103.01265 us</td><td>21.99435 us</td><td>0</td><td>0.00026</td><td>0.00026</td><td>0.0627 </td></table>"
          }
        },
        "ac52feaa5ed14527bcd8eb88c234572e": {
          "model_module": "@jupyter-widgets/base",
          "model_name": "LayoutModel",
          "model_module_version": "1.2.0",
          "state": {
            "_model_module": "@jupyter-widgets/base",
            "_model_module_version": "1.2.0",
            "_model_name": "LayoutModel",
            "_view_count": null,
            "_view_module": "@jupyter-widgets/base",
            "_view_module_version": "1.2.0",
            "_view_name": "LayoutView",
            "align_content": null,
            "align_items": null,
            "align_self": null,
            "border": null,
            "bottom": null,
            "display": null,
            "flex": null,
            "flex_flow": null,
            "grid_area": null,
            "grid_auto_columns": null,
            "grid_auto_flow": null,
            "grid_auto_rows": null,
            "grid_column": null,
            "grid_gap": null,
            "grid_row": null,
            "grid_template_areas": null,
            "grid_template_columns": null,
            "grid_template_rows": null,
            "height": null,
            "justify_content": null,
            "justify_items": null,
            "left": null,
            "margin": null,
            "max_height": null,
            "max_width": null,
            "min_height": null,
            "min_width": null,
            "object_fit": null,
            "object_position": null,
            "order": null,
            "overflow": null,
            "overflow_x": null,
            "overflow_y": null,
            "padding": null,
            "right": null,
            "top": null,
            "visibility": null,
            "width": null
          }
        },
        "11fd4004237041ea8b1dbf0dc2ca4774": {
          "model_module": "@jupyter-widgets/controls",
          "model_name": "HTMLModel",
          "model_module_version": "1.5.0",
          "state": {
            "_dom_classes": [],
            "_model_module": "@jupyter-widgets/controls",
            "_model_module_version": "1.5.0",
            "_model_name": "HTMLModel",
            "_view_count": null,
            "_view_module": "@jupyter-widgets/controls",
            "_view_module_version": "1.5.0",
            "_view_name": "HTMLView",
            "description": "",
            "description_tooltip": null,
            "layout": "IPY_MODEL_0505699130754c7ab83d6ac11d21ed6d",
            "placeholder": "​",
            "style": "IPY_MODEL_9baf213b13f5415891c6317469179ea2",
            "value": "<div><font style='font-weight:bold'>last_update_date</font>: 2023-03-14 21:13:51+00:00</div>"
          }
        },
        "01798c2fc7824330aab39070ca5ab986": {
          "model_module": "@jupyter-widgets/controls",
          "model_name": "HTMLModel",
          "model_module_version": "1.5.0",
          "state": {
            "_dom_classes": [],
            "_model_module": "@jupyter-widgets/controls",
            "_model_module_version": "1.5.0",
            "_model_name": "HTMLModel",
            "_view_count": null,
            "_view_module": "@jupyter-widgets/controls",
            "_view_module_version": "1.5.0",
            "_view_name": "HTMLView",
            "description": "",
            "description_tooltip": null,
            "layout": "IPY_MODEL_2aeec666a49041e092009c04075fffeb",
            "placeholder": "​",
            "style": "IPY_MODEL_cf3c884de2c1474fa39c2561fe67ff91",
            "value": "<table><style>\ntable {\n    border-collapse: collapse;\n    width: auto;\n}\n\nth, td {\n    text-align: left;\n    padding: 8px;\n}\n\ntr:nth-child(even) {background-color: #f6f6f6;};\n</style><tr><th></th><th>Type</th><th>Gate error</th></tr><tr><td><font style='font-weight:bold'>cx6_5</font></td><td>cx</td><td>0.0071</td></tr><tr><td><font style='font-weight:bold'>cx5_6</font></td><td>cx</td><td>0.0071</td></tr><tr><td><font style='font-weight:bold'>cx5_4</font></td><td>cx</td><td>0.01185</td></tr><tr><td><font style='font-weight:bold'>cx4_5</font></td><td>cx</td><td>0.01185</td></tr></table>"
          }
        },
        "9139bf67f0f84e2bb8be639e45570dc2": {
          "model_module": "@jupyter-widgets/controls",
          "model_name": "HTMLModel",
          "model_module_version": "1.5.0",
          "state": {
            "_dom_classes": [],
            "_model_module": "@jupyter-widgets/controls",
            "_model_module_version": "1.5.0",
            "_model_name": "HTMLModel",
            "_view_count": null,
            "_view_module": "@jupyter-widgets/controls",
            "_view_module_version": "1.5.0",
            "_view_name": "HTMLView",
            "description": "",
            "description_tooltip": null,
            "layout": "IPY_MODEL_4f805107289042959aaf942734a4ee1a",
            "placeholder": "​",
            "style": "IPY_MODEL_42a175c9e04c4dc5bbf03274315c3d8a",
            "value": "<table><style>\ntable {\n    border-collapse: collapse;\n    width: auto;\n}\n\nth, td {\n    text-align: left;\n    padding: 8px;\n}\n\ntr:nth-child(even) {background-color: #f6f6f6;};\n</style><tr><th></th><th>Type</th><th>Gate error</th></tr><tr><td><font style='font-weight:bold'>cx3_5</font></td><td>cx</td><td>0.00592</td></tr><tr><td><font style='font-weight:bold'>cx5_3</font></td><td>cx</td><td>0.00592</td></tr><tr><td><font style='font-weight:bold'>cx2_1</font></td><td>cx</td><td>0.01041</td></tr><tr><td><font style='font-weight:bold'>cx1_2</font></td><td>cx</td><td>0.01041</td></tr></table>"
          }
        },
        "b8a3180dd2d6476da53e8e3a471f7ea0": {
          "model_module": "@jupyter-widgets/controls",
          "model_name": "HTMLModel",
          "model_module_version": "1.5.0",
          "state": {
            "_dom_classes": [],
            "_model_module": "@jupyter-widgets/controls",
            "_model_module_version": "1.5.0",
            "_model_name": "HTMLModel",
            "_view_count": null,
            "_view_module": "@jupyter-widgets/controls",
            "_view_module_version": "1.5.0",
            "_view_name": "HTMLView",
            "description": "",
            "description_tooltip": null,
            "layout": "IPY_MODEL_02b70eb794914910a7902d6ed73295af",
            "placeholder": "​",
            "style": "IPY_MODEL_cb8246b89c8745ecae1584a727e3498f",
            "value": "<table><style>\ntable {\n    border-collapse: collapse;\n    width: auto;\n}\n\nth, td {\n    text-align: left;\n    padding: 8px;\n}\n\ntr:nth-child(even) {background-color: #f6f6f6;};\n</style><tr><th></th><th>Type</th><th>Gate error</th></tr><tr><td><font style='font-weight:bold'>cx1_3</font></td><td>cx</td><td>0.00842</td></tr><tr><td><font style='font-weight:bold'>cx3_1</font></td><td>cx</td><td>0.00842</td></tr><tr><td><font style='font-weight:bold'>cx0_1</font></td><td>cx</td><td>0.00758</td></tr><tr><td><font style='font-weight:bold'>cx1_0</font></td><td>cx</td><td>0.00758</td></tr></table>"
          }
        },
        "d24ae432166d40c1841af9ebe0c875f8": {
          "model_module": "@jupyter-widgets/base",
          "model_name": "LayoutModel",
          "model_module_version": "1.2.0",
          "state": {
            "_model_module": "@jupyter-widgets/base",
            "_model_module_version": "1.2.0",
            "_model_name": "LayoutModel",
            "_view_count": null,
            "_view_module": "@jupyter-widgets/base",
            "_view_module_version": "1.2.0",
            "_view_name": "LayoutView",
            "align_content": null,
            "align_items": null,
            "align_self": null,
            "border": null,
            "bottom": null,
            "display": null,
            "flex": null,
            "flex_flow": null,
            "grid_area": null,
            "grid_auto_columns": null,
            "grid_auto_flow": null,
            "grid_auto_rows": null,
            "grid_column": null,
            "grid_gap": "0px 0px",
            "grid_row": null,
            "grid_template_areas": "\n                                                   \"top top top\"\n                                                   \"left middle right\"\n                                                   ",
            "grid_template_columns": "33% 33% 33%",
            "grid_template_rows": "auto auto",
            "height": null,
            "justify_content": null,
            "justify_items": null,
            "left": null,
            "margin": null,
            "max_height": null,
            "max_width": null,
            "min_height": null,
            "min_width": null,
            "object_fit": null,
            "object_position": null,
            "order": null,
            "overflow": null,
            "overflow_x": null,
            "overflow_y": null,
            "padding": null,
            "right": null,
            "top": null,
            "visibility": null,
            "width": null
          }
        },
        "a2b0464e7f5243078793635f06907a7c": {
          "model_module": "@jupyter-widgets/base",
          "model_name": "LayoutModel",
          "model_module_version": "1.2.0",
          "state": {
            "_model_module": "@jupyter-widgets/base",
            "_model_module_version": "1.2.0",
            "_model_name": "LayoutModel",
            "_view_count": null,
            "_view_module": "@jupyter-widgets/base",
            "_view_module_version": "1.2.0",
            "_view_name": "LayoutView",
            "align_content": null,
            "align_items": null,
            "align_self": null,
            "border": null,
            "bottom": null,
            "display": null,
            "flex": null,
            "flex_flow": null,
            "grid_area": null,
            "grid_auto_columns": null,
            "grid_auto_flow": null,
            "grid_auto_rows": null,
            "grid_column": null,
            "grid_gap": null,
            "grid_row": null,
            "grid_template_areas": null,
            "grid_template_columns": null,
            "grid_template_rows": null,
            "height": null,
            "justify_content": null,
            "justify_items": null,
            "left": null,
            "margin": null,
            "max_height": "620px",
            "max_width": null,
            "min_height": null,
            "min_width": null,
            "object_fit": null,
            "object_position": null,
            "order": null,
            "overflow": null,
            "overflow_x": null,
            "overflow_y": null,
            "padding": null,
            "right": null,
            "top": null,
            "visibility": null,
            "width": null
          }
        },
        "80a392ac77e943e893a6be9181644f75": {
          "model_module": "@jupyter-widgets/base",
          "model_name": "LayoutModel",
          "model_module_version": "1.2.0",
          "state": {
            "_model_module": "@jupyter-widgets/base",
            "_model_module_version": "1.2.0",
            "_model_name": "LayoutModel",
            "_view_count": null,
            "_view_module": "@jupyter-widgets/base",
            "_view_module_version": "1.2.0",
            "_view_name": "LayoutView",
            "align_content": null,
            "align_items": null,
            "align_self": null,
            "border": null,
            "bottom": null,
            "display": null,
            "flex": null,
            "flex_flow": null,
            "grid_area": "left",
            "grid_auto_columns": null,
            "grid_auto_flow": null,
            "grid_auto_rows": null,
            "grid_column": null,
            "grid_gap": null,
            "grid_row": null,
            "grid_template_areas": null,
            "grid_template_columns": null,
            "grid_template_rows": null,
            "height": null,
            "justify_content": null,
            "justify_items": null,
            "left": null,
            "margin": null,
            "max_height": null,
            "max_width": null,
            "min_height": null,
            "min_width": null,
            "object_fit": null,
            "object_position": null,
            "order": null,
            "overflow": null,
            "overflow_x": null,
            "overflow_y": null,
            "padding": null,
            "right": null,
            "top": null,
            "visibility": null,
            "width": "100%"
          }
        },
        "9dd299c273284ffa8f7dcf9034c56835": {
          "model_module": "@jupyter-widgets/controls",
          "model_name": "DescriptionStyleModel",
          "model_module_version": "1.5.0",
          "state": {
            "_model_module": "@jupyter-widgets/controls",
            "_model_module_version": "1.5.0",
            "_model_name": "DescriptionStyleModel",
            "_view_count": null,
            "_view_module": "@jupyter-widgets/base",
            "_view_module_version": "1.2.0",
            "_view_name": "StyleView",
            "description_width": ""
          }
        },
        "060687e1918f4e4fa105612c2ecf303e": {
          "model_module": "@jupyter-widgets/base",
          "model_name": "LayoutModel",
          "model_module_version": "1.2.0",
          "state": {
            "_model_module": "@jupyter-widgets/base",
            "_model_module_version": "1.2.0",
            "_model_name": "LayoutModel",
            "_view_count": null,
            "_view_module": "@jupyter-widgets/base",
            "_view_module_version": "1.2.0",
            "_view_name": "LayoutView",
            "align_content": null,
            "align_items": null,
            "align_self": null,
            "border": null,
            "bottom": null,
            "display": null,
            "flex": null,
            "flex_flow": null,
            "grid_area": "bottom",
            "grid_auto_columns": null,
            "grid_auto_flow": null,
            "grid_auto_rows": null,
            "grid_column": null,
            "grid_gap": null,
            "grid_row": null,
            "grid_template_areas": null,
            "grid_template_columns": null,
            "grid_template_rows": null,
            "height": null,
            "justify_content": null,
            "justify_items": null,
            "left": null,
            "margin": null,
            "max_height": null,
            "max_width": null,
            "min_height": null,
            "min_width": null,
            "object_fit": null,
            "object_position": null,
            "order": null,
            "overflow": null,
            "overflow_x": null,
            "overflow_y": null,
            "padding": null,
            "right": null,
            "top": null,
            "visibility": null,
            "width": "auto"
          }
        },
        "a2e969c8956c43a1bf4b2bd332e9dd01": {
          "model_module": "@jupyter-widgets/controls",
          "model_name": "DescriptionStyleModel",
          "model_module_version": "1.5.0",
          "state": {
            "_model_module": "@jupyter-widgets/controls",
            "_model_module_version": "1.5.0",
            "_model_name": "DescriptionStyleModel",
            "_view_count": null,
            "_view_module": "@jupyter-widgets/base",
            "_view_module_version": "1.2.0",
            "_view_name": "StyleView",
            "description_width": ""
          }
        },
        "57511d4686204ae7b8b44fbf72d99483": {
          "model_module": "@jupyter-widgets/base",
          "model_name": "LayoutModel",
          "model_module_version": "1.2.0",
          "state": {
            "_model_module": "@jupyter-widgets/base",
            "_model_module_version": "1.2.0",
            "_model_name": "LayoutModel",
            "_view_count": null,
            "_view_module": "@jupyter-widgets/base",
            "_view_module_version": "1.2.0",
            "_view_name": "LayoutView",
            "align_content": null,
            "align_items": null,
            "align_self": null,
            "border": null,
            "bottom": null,
            "display": null,
            "flex": null,
            "flex_flow": null,
            "grid_area": null,
            "grid_auto_columns": null,
            "grid_auto_flow": null,
            "grid_auto_rows": null,
            "grid_column": null,
            "grid_gap": null,
            "grid_row": null,
            "grid_template_areas": null,
            "grid_template_columns": null,
            "grid_template_rows": null,
            "height": null,
            "justify_content": null,
            "justify_items": null,
            "left": null,
            "margin": null,
            "max_height": null,
            "max_width": null,
            "min_height": null,
            "min_width": null,
            "object_fit": null,
            "object_position": null,
            "order": null,
            "overflow": null,
            "overflow_x": null,
            "overflow_y": null,
            "padding": null,
            "right": null,
            "top": null,
            "visibility": null,
            "width": null
          }
        },
        "1830b465ee0643bc9655fc7efa3b4038": {
          "model_module": "@jupyter-widgets/controls",
          "model_name": "DescriptionStyleModel",
          "model_module_version": "1.5.0",
          "state": {
            "_model_module": "@jupyter-widgets/controls",
            "_model_module_version": "1.5.0",
            "_model_name": "DescriptionStyleModel",
            "_view_count": null,
            "_view_module": "@jupyter-widgets/base",
            "_view_module_version": "1.2.0",
            "_view_name": "StyleView",
            "description_width": ""
          }
        },
        "dc653c2ff2d84a258d06406e4fd1ed80": {
          "model_module": "@jupyter-widgets/base",
          "model_name": "LayoutModel",
          "model_module_version": "1.2.0",
          "state": {
            "_model_module": "@jupyter-widgets/base",
            "_model_module_version": "1.2.0",
            "_model_name": "LayoutModel",
            "_view_count": null,
            "_view_module": "@jupyter-widgets/base",
            "_view_module_version": "1.2.0",
            "_view_name": "LayoutView",
            "align_content": null,
            "align_items": null,
            "align_self": null,
            "border": null,
            "bottom": null,
            "display": null,
            "flex": null,
            "flex_flow": null,
            "grid_area": null,
            "grid_auto_columns": null,
            "grid_auto_flow": null,
            "grid_auto_rows": null,
            "grid_column": null,
            "grid_gap": null,
            "grid_row": null,
            "grid_template_areas": null,
            "grid_template_columns": null,
            "grid_template_rows": null,
            "height": null,
            "justify_content": null,
            "justify_items": null,
            "left": null,
            "margin": null,
            "max_height": null,
            "max_width": null,
            "min_height": null,
            "min_width": null,
            "object_fit": null,
            "object_position": null,
            "order": null,
            "overflow": null,
            "overflow_x": null,
            "overflow_y": null,
            "padding": null,
            "right": null,
            "top": null,
            "visibility": null,
            "width": null
          }
        },
        "c3fc833886bb47c4bd41aa30b59b396c": {
          "model_module": "@jupyter-widgets/controls",
          "model_name": "DescriptionStyleModel",
          "model_module_version": "1.5.0",
          "state": {
            "_model_module": "@jupyter-widgets/controls",
            "_model_module_version": "1.5.0",
            "_model_name": "DescriptionStyleModel",
            "_view_count": null,
            "_view_module": "@jupyter-widgets/base",
            "_view_module_version": "1.2.0",
            "_view_name": "StyleView",
            "description_width": ""
          }
        },
        "0505699130754c7ab83d6ac11d21ed6d": {
          "model_module": "@jupyter-widgets/base",
          "model_name": "LayoutModel",
          "model_module_version": "1.2.0",
          "state": {
            "_model_module": "@jupyter-widgets/base",
            "_model_module_version": "1.2.0",
            "_model_name": "LayoutModel",
            "_view_count": null,
            "_view_module": "@jupyter-widgets/base",
            "_view_module_version": "1.2.0",
            "_view_name": "LayoutView",
            "align_content": null,
            "align_items": null,
            "align_self": null,
            "border": null,
            "bottom": null,
            "display": null,
            "flex": null,
            "flex_flow": null,
            "grid_area": "top",
            "grid_auto_columns": null,
            "grid_auto_flow": null,
            "grid_auto_rows": null,
            "grid_column": null,
            "grid_gap": null,
            "grid_row": null,
            "grid_template_areas": null,
            "grid_template_columns": null,
            "grid_template_rows": null,
            "height": null,
            "justify_content": null,
            "justify_items": null,
            "left": null,
            "margin": null,
            "max_height": null,
            "max_width": null,
            "min_height": null,
            "min_width": null,
            "object_fit": null,
            "object_position": null,
            "order": null,
            "overflow": null,
            "overflow_x": null,
            "overflow_y": null,
            "padding": null,
            "right": null,
            "top": null,
            "visibility": null,
            "width": null
          }
        },
        "9baf213b13f5415891c6317469179ea2": {
          "model_module": "@jupyter-widgets/controls",
          "model_name": "DescriptionStyleModel",
          "model_module_version": "1.5.0",
          "state": {
            "_model_module": "@jupyter-widgets/controls",
            "_model_module_version": "1.5.0",
            "_model_name": "DescriptionStyleModel",
            "_view_count": null,
            "_view_module": "@jupyter-widgets/base",
            "_view_module_version": "1.2.0",
            "_view_name": "StyleView",
            "description_width": ""
          }
        },
        "2aeec666a49041e092009c04075fffeb": {
          "model_module": "@jupyter-widgets/base",
          "model_name": "LayoutModel",
          "model_module_version": "1.2.0",
          "state": {
            "_model_module": "@jupyter-widgets/base",
            "_model_module_version": "1.2.0",
            "_model_name": "LayoutModel",
            "_view_count": null,
            "_view_module": "@jupyter-widgets/base",
            "_view_module_version": "1.2.0",
            "_view_name": "LayoutView",
            "align_content": null,
            "align_items": null,
            "align_self": null,
            "border": null,
            "bottom": null,
            "display": null,
            "flex": null,
            "flex_flow": null,
            "grid_area": "left",
            "grid_auto_columns": null,
            "grid_auto_flow": null,
            "grid_auto_rows": null,
            "grid_column": null,
            "grid_gap": null,
            "grid_row": null,
            "grid_template_areas": null,
            "grid_template_columns": null,
            "grid_template_rows": null,
            "height": null,
            "justify_content": null,
            "justify_items": null,
            "left": null,
            "margin": null,
            "max_height": null,
            "max_width": null,
            "min_height": null,
            "min_width": null,
            "object_fit": null,
            "object_position": null,
            "order": null,
            "overflow": null,
            "overflow_x": null,
            "overflow_y": null,
            "padding": null,
            "right": null,
            "top": null,
            "visibility": null,
            "width": null
          }
        },
        "cf3c884de2c1474fa39c2561fe67ff91": {
          "model_module": "@jupyter-widgets/controls",
          "model_name": "DescriptionStyleModel",
          "model_module_version": "1.5.0",
          "state": {
            "_model_module": "@jupyter-widgets/controls",
            "_model_module_version": "1.5.0",
            "_model_name": "DescriptionStyleModel",
            "_view_count": null,
            "_view_module": "@jupyter-widgets/base",
            "_view_module_version": "1.2.0",
            "_view_name": "StyleView",
            "description_width": ""
          }
        },
        "4f805107289042959aaf942734a4ee1a": {
          "model_module": "@jupyter-widgets/base",
          "model_name": "LayoutModel",
          "model_module_version": "1.2.0",
          "state": {
            "_model_module": "@jupyter-widgets/base",
            "_model_module_version": "1.2.0",
            "_model_name": "LayoutModel",
            "_view_count": null,
            "_view_module": "@jupyter-widgets/base",
            "_view_module_version": "1.2.0",
            "_view_name": "LayoutView",
            "align_content": null,
            "align_items": null,
            "align_self": null,
            "border": null,
            "bottom": null,
            "display": null,
            "flex": null,
            "flex_flow": null,
            "grid_area": "middle",
            "grid_auto_columns": null,
            "grid_auto_flow": null,
            "grid_auto_rows": null,
            "grid_column": null,
            "grid_gap": null,
            "grid_row": null,
            "grid_template_areas": null,
            "grid_template_columns": null,
            "grid_template_rows": null,
            "height": null,
            "justify_content": null,
            "justify_items": null,
            "left": null,
            "margin": null,
            "max_height": null,
            "max_width": null,
            "min_height": null,
            "min_width": null,
            "object_fit": null,
            "object_position": null,
            "order": null,
            "overflow": null,
            "overflow_x": null,
            "overflow_y": null,
            "padding": null,
            "right": null,
            "top": null,
            "visibility": null,
            "width": null
          }
        },
        "42a175c9e04c4dc5bbf03274315c3d8a": {
          "model_module": "@jupyter-widgets/controls",
          "model_name": "DescriptionStyleModel",
          "model_module_version": "1.5.0",
          "state": {
            "_model_module": "@jupyter-widgets/controls",
            "_model_module_version": "1.5.0",
            "_model_name": "DescriptionStyleModel",
            "_view_count": null,
            "_view_module": "@jupyter-widgets/base",
            "_view_module_version": "1.2.0",
            "_view_name": "StyleView",
            "description_width": ""
          }
        },
        "02b70eb794914910a7902d6ed73295af": {
          "model_module": "@jupyter-widgets/base",
          "model_name": "LayoutModel",
          "model_module_version": "1.2.0",
          "state": {
            "_model_module": "@jupyter-widgets/base",
            "_model_module_version": "1.2.0",
            "_model_name": "LayoutModel",
            "_view_count": null,
            "_view_module": "@jupyter-widgets/base",
            "_view_module_version": "1.2.0",
            "_view_name": "LayoutView",
            "align_content": null,
            "align_items": null,
            "align_self": null,
            "border": null,
            "bottom": null,
            "display": null,
            "flex": null,
            "flex_flow": null,
            "grid_area": "right",
            "grid_auto_columns": null,
            "grid_auto_flow": null,
            "grid_auto_rows": null,
            "grid_column": null,
            "grid_gap": null,
            "grid_row": null,
            "grid_template_areas": null,
            "grid_template_columns": null,
            "grid_template_rows": null,
            "height": null,
            "justify_content": null,
            "justify_items": null,
            "left": null,
            "margin": null,
            "max_height": null,
            "max_width": null,
            "min_height": null,
            "min_width": null,
            "object_fit": null,
            "object_position": null,
            "order": null,
            "overflow": null,
            "overflow_x": null,
            "overflow_y": null,
            "padding": null,
            "right": null,
            "top": null,
            "visibility": null,
            "width": null
          }
        },
        "cb8246b89c8745ecae1584a727e3498f": {
          "model_module": "@jupyter-widgets/controls",
          "model_name": "DescriptionStyleModel",
          "model_module_version": "1.5.0",
          "state": {
            "_model_module": "@jupyter-widgets/controls",
            "_model_module_version": "1.5.0",
            "_model_name": "DescriptionStyleModel",
            "_view_count": null,
            "_view_module": "@jupyter-widgets/base",
            "_view_module_version": "1.2.0",
            "_view_name": "StyleView",
            "description_width": ""
          }
        },
        "11a0256126f74b03a04dd0fd7d8cd0c2": {
          "model_module": "@jupyter-widgets/base",
          "model_name": "LayoutModel",
          "model_module_version": "1.2.0",
          "state": {
            "_model_module": "@jupyter-widgets/base",
            "_model_module_version": "1.2.0",
            "_model_name": "LayoutModel",
            "_view_count": null,
            "_view_module": "@jupyter-widgets/base",
            "_view_module_version": "1.2.0",
            "_view_name": "LayoutView",
            "align_content": null,
            "align_items": "center",
            "align_self": null,
            "border": null,
            "bottom": null,
            "display": "flex-inline",
            "flex": null,
            "flex_flow": null,
            "grid_area": null,
            "grid_auto_columns": null,
            "grid_auto_flow": null,
            "grid_auto_rows": null,
            "grid_column": null,
            "grid_gap": null,
            "grid_row": null,
            "grid_template_areas": null,
            "grid_template_columns": null,
            "grid_template_rows": null,
            "height": null,
            "justify_content": null,
            "justify_items": null,
            "left": null,
            "margin": null,
            "max_height": null,
            "max_width": null,
            "min_height": null,
            "min_width": null,
            "object_fit": null,
            "object_position": null,
            "order": null,
            "overflow": null,
            "overflow_x": null,
            "overflow_y": null,
            "padding": null,
            "right": null,
            "top": null,
            "visibility": null,
            "width": null
          }
        },
        "05130539f120450aa853b4f5ba7e26e4": {
          "model_module": "@jupyter-widgets/base",
          "model_name": "LayoutModel",
          "model_module_version": "1.2.0",
          "state": {
            "_model_module": "@jupyter-widgets/base",
            "_model_module_version": "1.2.0",
            "_model_name": "LayoutModel",
            "_view_count": null,
            "_view_module": "@jupyter-widgets/base",
            "_view_module_version": "1.2.0",
            "_view_name": "LayoutView",
            "align_content": null,
            "align_items": "center",
            "align_self": null,
            "border": null,
            "bottom": null,
            "display": "flex-inline",
            "flex": null,
            "flex_flow": null,
            "grid_area": "right",
            "grid_auto_columns": null,
            "grid_auto_flow": null,
            "grid_auto_rows": null,
            "grid_column": null,
            "grid_gap": null,
            "grid_row": null,
            "grid_template_areas": null,
            "grid_template_columns": null,
            "grid_template_rows": null,
            "height": null,
            "justify_content": null,
            "justify_items": null,
            "left": null,
            "margin": null,
            "max_height": "325px",
            "max_width": null,
            "min_height": null,
            "min_width": null,
            "object_fit": null,
            "object_position": null,
            "order": null,
            "overflow": null,
            "overflow_x": null,
            "overflow_y": null,
            "padding": "10px 10px 10px 10px",
            "right": null,
            "top": null,
            "visibility": null,
            "width": "auto"
          }
        },
        "3cd036347a2d4178ad777db218cafc33": {
          "model_module": "@jupyter-widgets/controls",
          "model_name": "VBoxModel",
          "model_module_version": "1.5.0",
          "state": {
            "_dom_classes": [],
            "_model_module": "@jupyter-widgets/controls",
            "_model_module_version": "1.5.0",
            "_model_name": "VBoxModel",
            "_view_count": null,
            "_view_module": "@jupyter-widgets/controls",
            "_view_module_version": "1.5.0",
            "_view_name": "VBoxView",
            "box_style": "",
            "children": [
              "IPY_MODEL_e3e45437d7994992aade718af397a902",
              "IPY_MODEL_ab0a369282734cddaf90e309b7a5bdfd"
            ],
            "layout": "IPY_MODEL_6ebdd4e413d14358ae167fedf451acba"
          }
        },
        "e3e45437d7994992aade718af397a902": {
          "model_module": "@jupyter-widgets/controls",
          "model_name": "HTMLModel",
          "model_module_version": "1.5.0",
          "state": {
            "_dom_classes": [],
            "_model_module": "@jupyter-widgets/controls",
            "_model_module_version": "1.5.0",
            "_model_name": "HTMLModel",
            "_view_count": null,
            "_view_module": "@jupyter-widgets/controls",
            "_view_module_version": "1.5.0",
            "_view_name": "HTMLView",
            "description": "",
            "description_tooltip": null,
            "layout": "IPY_MODEL_19c77a172aed471db3b7768871053d32",
            "placeholder": "​",
            "style": "IPY_MODEL_57655e0d395d48dfb27386b0b262461b",
            "value": "<h1 style='color:#ffffff;background-color:#000000;padding-top: 1%;padding-bottom: 1%;padding-left: 1%; margin-top: 0px'>ibmq_jakarta</h1>"
          }
        },
        "ab0a369282734cddaf90e309b7a5bdfd": {
          "model_module": "@jupyter-widgets/controls",
          "model_name": "TabModel",
          "model_module_version": "1.5.0",
          "state": {
            "_dom_classes": [],
            "_model_module": "@jupyter-widgets/controls",
            "_model_module_version": "1.5.0",
            "_model_name": "TabModel",
            "_titles": {
              "0": "Configuration",
              "1": "Qubit Properties",
              "2": "Multi-Qubit Gates",
              "3": "Error Map",
              "4": "Job History"
            },
            "_view_count": null,
            "_view_module": "@jupyter-widgets/controls",
            "_view_module_version": "1.5.0",
            "_view_name": "TabView",
            "box_style": "",
            "children": [
              "IPY_MODEL_3aae70aa4f364561bc52918a94411e86",
              "IPY_MODEL_633d9d2d66f14b308ebd401cf6ca96f9",
              "IPY_MODEL_e325603dd61343648ca41d0d3188c09d",
              "IPY_MODEL_f9cb7f53fa004490ad61351d1efedf66",
              "IPY_MODEL_fbbd86b07a2844a28a56c328ba248434"
            ],
            "layout": "IPY_MODEL_c34d5bd65c1940858e4eb5a5bd608c9e",
            "selected_index": 0
          }
        },
        "6ebdd4e413d14358ae167fedf451acba": {
          "model_module": "@jupyter-widgets/base",
          "model_name": "LayoutModel",
          "model_module_version": "1.2.0",
          "state": {
            "_model_module": "@jupyter-widgets/base",
            "_model_module_version": "1.2.0",
            "_model_name": "LayoutModel",
            "_view_count": null,
            "_view_module": "@jupyter-widgets/base",
            "_view_module_version": "1.2.0",
            "_view_name": "LayoutView",
            "align_content": null,
            "align_items": null,
            "align_self": null,
            "border": "4px solid #000000",
            "bottom": null,
            "display": null,
            "flex": null,
            "flex_flow": null,
            "grid_area": null,
            "grid_auto_columns": null,
            "grid_auto_flow": null,
            "grid_auto_rows": null,
            "grid_column": null,
            "grid_gap": null,
            "grid_row": null,
            "grid_template_areas": null,
            "grid_template_columns": null,
            "grid_template_rows": null,
            "height": null,
            "justify_content": null,
            "justify_items": null,
            "left": null,
            "margin": null,
            "max_height": "650px",
            "max_width": null,
            "min_height": "650px",
            "min_width": null,
            "object_fit": null,
            "object_position": null,
            "order": null,
            "overflow": null,
            "overflow_x": null,
            "overflow_y": "hidden",
            "padding": null,
            "right": null,
            "top": null,
            "visibility": null,
            "width": null
          }
        },
        "19c77a172aed471db3b7768871053d32": {
          "model_module": "@jupyter-widgets/base",
          "model_name": "LayoutModel",
          "model_module_version": "1.2.0",
          "state": {
            "_model_module": "@jupyter-widgets/base",
            "_model_module_version": "1.2.0",
            "_model_name": "LayoutModel",
            "_view_count": null,
            "_view_module": "@jupyter-widgets/base",
            "_view_module_version": "1.2.0",
            "_view_name": "LayoutView",
            "align_content": null,
            "align_items": null,
            "align_self": null,
            "border": null,
            "bottom": null,
            "display": null,
            "flex": null,
            "flex_flow": null,
            "grid_area": null,
            "grid_auto_columns": null,
            "grid_auto_flow": null,
            "grid_auto_rows": null,
            "grid_column": null,
            "grid_gap": null,
            "grid_row": null,
            "grid_template_areas": null,
            "grid_template_columns": null,
            "grid_template_rows": null,
            "height": null,
            "justify_content": null,
            "justify_items": null,
            "left": null,
            "margin": "0px 0px 0px 0px",
            "max_height": null,
            "max_width": null,
            "min_height": null,
            "min_width": null,
            "object_fit": null,
            "object_position": null,
            "order": null,
            "overflow": null,
            "overflow_x": null,
            "overflow_y": null,
            "padding": null,
            "right": null,
            "top": null,
            "visibility": null,
            "width": null
          }
        },
        "57655e0d395d48dfb27386b0b262461b": {
          "model_module": "@jupyter-widgets/controls",
          "model_name": "DescriptionStyleModel",
          "model_module_version": "1.5.0",
          "state": {
            "_model_module": "@jupyter-widgets/controls",
            "_model_module_version": "1.5.0",
            "_model_name": "DescriptionStyleModel",
            "_view_count": null,
            "_view_module": "@jupyter-widgets/base",
            "_view_module_version": "1.2.0",
            "_view_name": "StyleView",
            "description_width": ""
          }
        },
        "3aae70aa4f364561bc52918a94411e86": {
          "model_module": "@jupyter-widgets/controls",
          "model_name": "GridBoxModel",
          "model_module_version": "1.5.0",
          "state": {
            "_dom_classes": [],
            "_model_module": "@jupyter-widgets/controls",
            "_model_module_version": "1.5.0",
            "_model_name": "GridBoxModel",
            "_view_count": null,
            "_view_module": "@jupyter-widgets/controls",
            "_view_module_version": "1.5.0",
            "_view_name": "GridBoxView",
            "box_style": "",
            "children": [
              "IPY_MODEL_05467feac64042f5aa549c98b10afbd3",
              "IPY_MODEL_ae56792c40104b1385b326dee36b5af8",
              "IPY_MODEL_f50e905b388a487f9083d6ed0a7d6686"
            ],
            "layout": "IPY_MODEL_09ddec0198b442749c0b6c7f5a710131"
          }
        },
        "633d9d2d66f14b308ebd401cf6ca96f9": {
          "model_module": "@jupyter-widgets/controls",
          "model_name": "VBoxModel",
          "model_module_version": "1.5.0",
          "state": {
            "_dom_classes": [],
            "_model_module": "@jupyter-widgets/controls",
            "_model_module_version": "1.5.0",
            "_model_name": "VBoxModel",
            "_view_count": null,
            "_view_module": "@jupyter-widgets/controls",
            "_view_module_version": "1.5.0",
            "_view_name": "VBoxView",
            "box_style": "",
            "children": [
              "IPY_MODEL_3d35f0614131450ea5e098680fff2830",
              "IPY_MODEL_08186b9acafa4ca8bd94fc18a2b75baa"
            ],
            "layout": "IPY_MODEL_f23a31bf88fd423481d167f967c91660"
          }
        },
        "e325603dd61343648ca41d0d3188c09d": {
          "model_module": "@jupyter-widgets/controls",
          "model_name": "GridBoxModel",
          "model_module_version": "1.5.0",
          "state": {
            "_dom_classes": [],
            "_model_module": "@jupyter-widgets/controls",
            "_model_module_version": "1.5.0",
            "_model_name": "GridBoxModel",
            "_view_count": null,
            "_view_module": "@jupyter-widgets/controls",
            "_view_module_version": "1.5.0",
            "_view_name": "GridBoxView",
            "box_style": "",
            "children": [
              "IPY_MODEL_e805c70dbb1f4887a2eea6990e6daf92",
              "IPY_MODEL_ded8eb2da5384128bce83b121f4f1657",
              "IPY_MODEL_2890f0fa32d448049e4aecb125c2c60e",
              "IPY_MODEL_ba6f148fcd044c2c882e8af477617dce"
            ],
            "layout": "IPY_MODEL_562b1752dbfd42c898613158fb5dc32c"
          }
        },
        "f9cb7f53fa004490ad61351d1efedf66": {
          "model_module": "@jupyter-widgets/output",
          "model_name": "OutputModel",
          "model_module_version": "1.0.0",
          "state": {
            "_dom_classes": [],
            "_model_module": "@jupyter-widgets/output",
            "_model_module_version": "1.0.0",
            "_model_name": "OutputModel",
            "_view_count": null,
            "_view_module": "@jupyter-widgets/output",
            "_view_module_version": "1.0.0",
            "_view_name": "OutputView",
            "layout": "IPY_MODEL_887f4c59d62c4761950cfb30bc6ec06d",
            "msg_id": "",
            "outputs": [
              {
                "output_type": "display_data",
                "data": {
                  "text/plain": "<Figure size 792x648 with 5 Axes>",
                  "image/png": "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\n"
                },
                "metadata": {}
              }
            ]
          }
        },
        "fbbd86b07a2844a28a56c328ba248434": {
          "model_module": "@jupyter-widgets/controls",
          "model_name": "TabModel",
          "model_module_version": "1.5.0",
          "state": {
            "_dom_classes": [],
            "_model_module": "@jupyter-widgets/controls",
            "_model_module_version": "1.5.0",
            "_model_name": "TabModel",
            "_titles": {},
            "_view_count": null,
            "_view_module": "@jupyter-widgets/controls",
            "_view_module_version": "1.5.0",
            "_view_name": "TabView",
            "box_style": "",
            "children": [],
            "layout": "IPY_MODEL_70c37cb12b574bc3ac8ad23bf3207ed0",
            "selected_index": 0
          }
        },
        "c34d5bd65c1940858e4eb5a5bd608c9e": {
          "model_module": "@jupyter-widgets/base",
          "model_name": "LayoutModel",
          "model_module_version": "1.2.0",
          "state": {
            "_model_module": "@jupyter-widgets/base",
            "_model_module_version": "1.2.0",
            "_model_name": "LayoutModel",
            "_view_count": null,
            "_view_module": "@jupyter-widgets/base",
            "_view_module_version": "1.2.0",
            "_view_name": "LayoutView",
            "align_content": null,
            "align_items": null,
            "align_self": null,
            "border": null,
            "bottom": null,
            "display": null,
            "flex": null,
            "flex_flow": null,
            "grid_area": null,
            "grid_auto_columns": null,
            "grid_auto_flow": null,
            "grid_auto_rows": null,
            "grid_column": null,
            "grid_gap": null,
            "grid_row": null,
            "grid_template_areas": null,
            "grid_template_columns": null,
            "grid_template_rows": null,
            "height": null,
            "justify_content": null,
            "justify_items": null,
            "left": null,
            "margin": null,
            "max_height": null,
            "max_width": null,
            "min_height": null,
            "min_width": null,
            "object_fit": null,
            "object_position": null,
            "order": null,
            "overflow": null,
            "overflow_x": null,
            "overflow_y": "scroll",
            "padding": null,
            "right": null,
            "top": null,
            "visibility": null,
            "width": null
          }
        },
        "05467feac64042f5aa549c98b10afbd3": {
          "model_module": "@jupyter-widgets/controls",
          "model_name": "HTMLMathModel",
          "model_module_version": "1.5.0",
          "state": {
            "_dom_classes": [],
            "_model_module": "@jupyter-widgets/controls",
            "_model_module_version": "1.5.0",
            "_model_name": "HTMLMathModel",
            "_view_count": null,
            "_view_module": "@jupyter-widgets/controls",
            "_view_module_version": "1.5.0",
            "_view_name": "HTMLMathView",
            "description": "",
            "description_tooltip": null,
            "layout": "IPY_MODEL_aa1642ad3ee04da0907f9bcf2b0a0b7f",
            "placeholder": "​",
            "style": "IPY_MODEL_a469d197747447678da5c90dd881da57",
            "value": "<table><style>\ntable {\n    border-collapse: collapse;\n    width: auto;\n}\n\nth, td {\n    text-align: left;\n    padding: 8px;\n}\n\ntr:nth-child(even) {background-color: #f6f6f6;}\n</style><tr><th>Property</th><th>Value</th></tr><tr><td><font style='font-weight:bold'>n_qubits</font></td><td>7</td></tr><tr><td><font style='font-weight:bold'>quantum_volume</font></td><td>16</td></tr><tr><td><font style='font-weight:bold'>operational</font></td><td>True</td></tr><tr><td><font style='font-weight:bold'>status_msg</font></td><td>active</td></tr><tr><td><font style='font-weight:bold'>pending_jobs</font></td><td>0</td></tr><tr><td><font style='font-weight:bold'>backend_version</font></td><td>1.2.8</td></tr><tr><td><font style='font-weight:bold'>basis_gates</font></td><td>['id', 'rz', 'sx', 'x', 'cx', 'reset']</td></tr><tr><td><font style='font-weight:bold'>max_shots</font></td><td>20000</td></tr><tr><td><font style='font-weight:bold'>max_experiments</font></td><td>100</td></tr></table>"
          }
        },
        "ae56792c40104b1385b326dee36b5af8": {
          "model_module": "@jupyter-widgets/output",
          "model_name": "OutputModel",
          "model_module_version": "1.0.0",
          "state": {
            "_dom_classes": [],
            "_model_module": "@jupyter-widgets/output",
            "_model_module_version": "1.0.0",
            "_model_name": "OutputModel",
            "_view_count": null,
            "_view_module": "@jupyter-widgets/output",
            "_view_module_version": "1.0.0",
            "_view_name": "OutputView",
            "layout": "IPY_MODEL_cc0674f709114460aca1a3703373db08",
            "msg_id": "",
            "outputs": [
              {
                "output_type": "display_data",
                "data": {
                  "text/plain": "<Figure size 360x360 with 1 Axes>",
                  "image/png": "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\n"
                },
                "metadata": {}
              }
            ]
          }
        },
        "f50e905b388a487f9083d6ed0a7d6686": {
          "model_module": "@jupyter-widgets/controls",
          "model_name": "HTMLMathModel",
          "model_module_version": "1.5.0",
          "state": {
            "_dom_classes": [],
            "_model_module": "@jupyter-widgets/controls",
            "_model_module_version": "1.5.0",
            "_model_name": "HTMLMathModel",
            "_view_count": null,
            "_view_module": "@jupyter-widgets/controls",
            "_view_module_version": "1.5.0",
            "_view_name": "HTMLMathView",
            "description": "",
            "description_tooltip": null,
            "layout": "IPY_MODEL_b53e8d9abd58415f8057eecb7443d714",
            "placeholder": "​",
            "style": "IPY_MODEL_e6bb0086831244d880fc8fc4b0416834",
            "value": "<table><style>\ntable {\n    border-collapse: collapse;\n    width: auto;\n}\n\nth, td {\n    text-align: left;\n    padding: 8px;\n}\n\ntr:nth-child(even) {background-color: #f6f6f6;}\n</style><tr><th></th><th></th></tr><tr><td>processor_type</td><td>{'family': 'Falcon', 'revision': '5.11', 'segment': 'H'}</td></tr><tr><td>backend_name</td><td>ibmq_jakarta</td></tr><tr><td>local</td><td>False</td></tr><tr><td>online_date</td><td>2021-04-28 04:00:00+00:00</td></tr><tr><td>rep_delay_range</td><td>[0.0, 500.0]</td></tr><tr><td>dt</td><td>0.2222222222222222</td></tr><tr><td>n_uchannels</td><td>12</td></tr><tr><td>rep_times</td><td>[1000.0]</td></tr><tr><td>hamiltonian</td><td>$$\\begin{align} \\mathcal{H}/\\hbar = & \\sum_{i=0}^{6}\\left(\\frac{\\omega_{q,i}}{2}(\\mathbb{I}-\\sigma_i^{z})+\\frac{\\Delta_{i}}{2}(O_i^2-O_i)+\\Omega_{d,i}D_i(t)\\sigma_i^{X}\\right) \\\\ & + J_{0,1}(\\sigma_{0}^{+}\\sigma_{1}^{-}+\\sigma_{0}^{-}\\sigma_{1}^{+}) + J_{1,2}(\\sigma_{1}^{+}\\sigma_{2}^{-}+\\sigma_{1}^{-}\\sigma_{2}^{+}) + J_{4,5}(\\sigma_{4}^{+}\\sigma_{5}^{-}+\\sigma_{4}^{-}\\sigma_{5}^{+}) + J_{5,6}(\\sigma_{5}^{+}\\sigma_{6}^{-}+\\sigma_{5}^{-}\\sigma_{6}^{+}) \\\\ & + J_{1,3}(\\sigma_{1}^{+}\\sigma_{3}^{-}+\\sigma_{1}^{-}\\sigma_{3}^{+}) + J_{3,5}(\\sigma_{3}^{+}\\sigma_{5}^{-}+\\sigma_{3}^{-}\\sigma_{5}^{+}) \\\\ & + \\Omega_{d,0}(U_{0}^{(0,1)}(t))\\sigma_{0}^{X} + \\Omega_{d,1}(U_{1}^{(1,0)}(t)+U_{3}^{(1,3)}(t)+U_{2}^{(1,2)}(t))\\sigma_{1}^{X} \\\\ & + \\Omega_{d,2}(U_{4}^{(2,1)}(t))\\sigma_{2}^{X} + \\Omega_{d,3}(U_{5}^{(3,1)}(t)+U_{6}^{(3,5)}(t))\\sigma_{3}^{X} \\\\ & + \\Omega_{d,4}(U_{7}^{(4,5)}(t))\\sigma_{4}^{X} + \\Omega_{d,5}(U_{8}^{(5,3)}(t)+U_{10}^{(5,6)}(t)+U_{9}^{(5,4)}(t))\\sigma_{5}^{X} \\\\ & + \\Omega_{d,6}(U_{11}^{(6,5)}(t))\\sigma_{6}^{X} \\\\ \\end{align}$$</td></tr><tr><td>coupling_map</td><td>[[0, 1], [1, 0], [1, 2], [1, 3], [2, 1], [3, 1], [3, 5], [4, 5], [5, 3], [5, 4], [5, 6], [6, 5]]</td></tr><tr><td>pulse_num_channels</td><td>9</td></tr><tr><td>uchannels_enabled</td><td>True</td></tr><tr><td>conditional</td><td>False</td></tr><tr><td>url</td><td>None</td></tr><tr><td>dtm</td><td>0.2222222222222222</td></tr><tr><td>parametric_pulses</td><td>['gaussian', 'gaussian_square', 'gaussian_square_drag', 'drag', 'constant']</td></tr><tr><td>credits_required</td><td>True</td></tr><tr><td>supported_instructions</td><td>['cx', 'id', 'delay', 'measure', 'reset', 'rz', 'sx', 'x', 'if_else']</td></tr><tr><td>allow_object_storage</td><td>True</td></tr><tr><td>multi_meas_enabled</td><td>True</td></tr><tr><td>pulse_num_qubits</td><td>3</td></tr><tr><td>allow_q_object</td><td>True</td></tr><tr><td>meas_map</td><td>[[0, 1, 2, 3, 4, 5, 6]]</td></tr><tr><td>open_pulse</td><td>False</td></tr><tr><td>description</td><td>7 qubit device</td></tr><tr><td>conditional_latency</td><td>[]</td></tr><tr><td>qubit_channel_mapping</td><td>[['m0', 'd0', 'u0', 'u1'], ['u5', 'u1', 'u0', 'u4', 'u2', 'u3', 'm1', 'd1'], ['u4', 'u2', 'm2', 'd2'], ['u5', 'm3', 'u6', 'u3', 'd3', 'u8'], ['d4', 'u7', 'u9', 'm4'], ['d5', 'm5', 'u7', 'u6', 'u10', 'u11', 'u9', 'u8'], ['u10', 'u11', 'm6', 'd6']]</td></tr><tr><td>input_allowed</td><td>['job', 'runtime', 'qasm3']</td></tr><tr><td>measure_esp_enabled</td><td>False</td></tr><tr><td>channels</td><td>{'acquire0': {'operates': {'qubits': [0]}, 'purpose': 'acquire', 'type': 'acquire'}, 'acquire1': {'operates': {'qubits': [1]}, 'purpose': 'acquire', 'type': 'acquire'}, 'acquire2': {'operates': {'qubits': [2]}, 'purpose': 'acquire', 'type': 'acquire'}, 'acquire3': {'operates': {'qubits': [3]}, 'purpose': 'acquire', 'type': 'acquire'}, 'acquire4': {'operates': {'qubits': [4]}, 'purpose': 'acquire', 'type': 'acquire'}, 'acquire5': {'operates': {'qubits': [5]}, 'purpose': 'acquire', 'type': 'acquire'}, 'acquire6': {'operates': {'qubits': [6]}, 'purpose': 'acquire', 'type': 'acquire'}, 'd0': {'operates': {'qubits': [0]}, 'purpose': 'drive', 'type': 'drive'}, 'd1': {'operates': {'qubits': [1]}, 'purpose': 'drive', 'type': 'drive'}, 'd2': {'operates': {'qubits': [2]}, 'purpose': 'drive', 'type': 'drive'}, 'd3': {'operates': {'qubits': [3]}, 'purpose': 'drive', 'type': 'drive'}, 'd4': {'operates': {'qubits': [4]}, 'purpose': 'drive', 'type': 'drive'}, 'd5': {'operates': {'qubits': [5]}, 'purpose': 'drive', 'type': 'drive'}, 'd6': {'operates': {'qubits': [6]}, 'purpose': 'drive', 'type': 'drive'}, 'm0': {'operates': {'qubits': [0]}, 'purpose': 'measure', 'type': 'measure'}, 'm1': {'operates': {'qubits': [1]}, 'purpose': 'measure', 'type': 'measure'}, 'm2': {'operates': {'qubits': [2]}, 'purpose': 'measure', 'type': 'measure'}, 'm3': {'operates': {'qubits': [3]}, 'purpose': 'measure', 'type': 'measure'}, 'm4': {'operates': {'qubits': [4]}, 'purpose': 'measure', 'type': 'measure'}, 'm5': {'operates': {'qubits': [5]}, 'purpose': 'measure', 'type': 'measure'}, 'm6': {'operates': {'qubits': [6]}, 'purpose': 'measure', 'type': 'measure'}, 'u0': {'operates': {'qubits': [0, 1]}, 'purpose': 'cross-resonance', 'type': 'control'}, 'u1': {'operates': {'qubits': [1, 0]}, 'purpose': 'cross-resonance', 'type': 'control'}, 'u10': {'operates': {'qubits': [5, 6]}, 'purpose': 'cross-resonance', 'type': 'control'}, 'u11': {'operates': {'qubits': [6, 5]}, 'purpose': 'cross-resonance', 'type': 'control'}, 'u2': {'operates': {'qubits': [1, 2]}, 'purpose': 'cross-resonance', 'type': 'control'}, 'u3': {'operates': {'qubits': [1, 3]}, 'purpose': 'cross-resonance', 'type': 'control'}, 'u4': {'operates': {'qubits': [2, 1]}, 'purpose': 'cross-resonance', 'type': 'control'}, 'u5': {'operates': {'qubits': [3, 1]}, 'purpose': 'cross-resonance', 'type': 'control'}, 'u6': {'operates': {'qubits': [3, 5]}, 'purpose': 'cross-resonance', 'type': 'control'}, 'u7': {'operates': {'qubits': [4, 5]}, 'purpose': 'cross-resonance', 'type': 'control'}, 'u8': {'operates': {'qubits': [5, 3]}, 'purpose': 'cross-resonance', 'type': 'control'}, 'u9': {'operates': {'qubits': [5, 4]}, 'purpose': 'cross-resonance', 'type': 'control'}}</td></tr><tr><td>clops</td><td>2438</td></tr><tr><td>supported_features</td><td>['qobj', 'qasm3']</td></tr><tr><td>n_registers</td><td>1</td></tr><tr><td>acquisition_latency</td><td>[]</td></tr><tr><td>meas_levels</td><td>[1, 2]</td></tr><tr><td>simulator</td><td>False</td></tr><tr><td>qubit_lo_range</td><td>[[4.736519652597764, 5.736519652597764], [4.5144279227110875, 5.5144279227110875], [4.608413159257102, 5.608413159257102], [4.678148693620736, 5.678148693620736], [4.713012289720987, 5.713012289720987], [4.563331337993264, 5.563331337993264], [4.8006695085735345, 5.8006695085735345]]</td></tr><tr><td>memory</td><td>True</td></tr><tr><td>dynamic_reprate_enabled</td><td>True</td></tr><tr><td>default_rep_delay</td><td>250.0</td></tr><tr><td>parallel_compilation</td><td>True</td></tr><tr><td>timing_constraints</td><td>{'acquire_alignment': 16, 'granularity': 16, 'min_length': 64, 'pulse_alignment': 16}</td></tr><tr><td>u_channel_lo</td><td>[[{'q': 1, 'scale': (1+0j)}], [{'q': 0, 'scale': (1+0j)}], [{'q': 2, 'scale': (1+0j)}], [{'q': 3, 'scale': (1+0j)}], [{'q': 1, 'scale': (1+0j)}], [{'q': 1, 'scale': (1+0j)}], [{'q': 5, 'scale': (1+0j)}], [{'q': 5, 'scale': (1+0j)}], [{'q': 3, 'scale': (1+0j)}], [{'q': 4, 'scale': (1+0j)}], [{'q': 6, 'scale': (1+0j)}], [{'q': 5, 'scale': (1+0j)}]]</td></tr><tr><td>meas_kernels</td><td>['hw_qmfk']</td></tr><tr><td>discriminators</td><td>['hw_qmfk', 'linear_discriminator', 'quadratic_discriminator']</td></tr><tr><td>meas_lo_range</td><td>[[6.778492341000001, 7.778492341000001], [6.837882003000001, 7.837882003000001], [6.714947009, 7.714947009], [6.670476576, 7.670476576], [6.858519424000001, 7.858519424000001], [6.605023825000001, 7.605023825000001], [6.74238245, 7.742382450000001]]</td></tr><tr><td>live_data</td><td>False</td></tr><tr><td>sample_name</td><td>family: Falcon, revision: 5.11, segment: H</td></tr></table>"
          }
        },
        "09ddec0198b442749c0b6c7f5a710131": {
          "model_module": "@jupyter-widgets/base",
          "model_name": "LayoutModel",
          "model_module_version": "1.2.0",
          "state": {
            "_model_module": "@jupyter-widgets/base",
            "_model_module_version": "1.2.0",
            "_model_name": "LayoutModel",
            "_view_count": null,
            "_view_module": "@jupyter-widgets/base",
            "_view_module_version": "1.2.0",
            "_view_name": "LayoutView",
            "align_content": null,
            "align_items": null,
            "align_self": null,
            "border": null,
            "bottom": null,
            "display": null,
            "flex": null,
            "flex_flow": null,
            "grid_area": null,
            "grid_auto_columns": null,
            "grid_auto_flow": null,
            "grid_auto_rows": null,
            "grid_column": null,
            "grid_gap": "0px 0px",
            "grid_row": null,
            "grid_template_areas": "\n                               \"left right right right\"\n                               \"bottom bottom bottom bottom\"\n                               ",
            "grid_template_columns": "31% 23% 23% 23%",
            "grid_template_rows": "auto auto",
            "height": null,
            "justify_content": null,
            "justify_items": null,
            "left": null,
            "margin": null,
            "max_height": null,
            "max_width": null,
            "min_height": null,
            "min_width": null,
            "object_fit": null,
            "object_position": null,
            "order": null,
            "overflow": null,
            "overflow_x": null,
            "overflow_y": null,
            "padding": null,
            "right": null,
            "top": null,
            "visibility": null,
            "width": null
          }
        },
        "3d35f0614131450ea5e098680fff2830": {
          "model_module": "@jupyter-widgets/controls",
          "model_name": "HTMLModel",
          "model_module_version": "1.5.0",
          "state": {
            "_dom_classes": [],
            "_model_module": "@jupyter-widgets/controls",
            "_model_module_version": "1.5.0",
            "_model_name": "HTMLModel",
            "_view_count": null,
            "_view_module": "@jupyter-widgets/controls",
            "_view_module_version": "1.5.0",
            "_view_name": "HTMLView",
            "description": "",
            "description_tooltip": null,
            "layout": "IPY_MODEL_b32b4f1069454223bbc90d0ed65e6574",
            "placeholder": "​",
            "style": "IPY_MODEL_c113f1935f2b4e5eb1638e8ab0eb7fef",
            "value": "<div><font style='font-weight:bold'>last_update_date</font>: Tue 14 March 2023 at 21:13 UTC</div>"
          }
        },
        "08186b9acafa4ca8bd94fc18a2b75baa": {
          "model_module": "@jupyter-widgets/controls",
          "model_name": "HTMLModel",
          "model_module_version": "1.5.0",
          "state": {
            "_dom_classes": [],
            "_model_module": "@jupyter-widgets/controls",
            "_model_module_version": "1.5.0",
            "_model_name": "HTMLModel",
            "_view_count": null,
            "_view_module": "@jupyter-widgets/controls",
            "_view_module_version": "1.5.0",
            "_view_name": "HTMLView",
            "description": "",
            "description_tooltip": null,
            "layout": "IPY_MODEL_2cdbc081dc3f4583b6155e542e77671f",
            "placeholder": "​",
            "style": "IPY_MODEL_a8424b9f18c44bffb2ff1e3007b00f76",
            "value": "<table><style>\ntable {\n    border-collapse: collapse;\n    width: auto;\n}\n\nth, td {\n    text-align: left;\n    padding: 8px;\n}\n\ntr:nth-child(even) {background-color: #f6f6f6;}\n</style><tr><th></th><th>Frequency</th><th>T1</th><th>T2</th><th>RZ</th><th>SX</th><th>X</th><th>Readout error</th></tr><tr><td><font style='font-weight:bold'>Q0</font></td><td>5.23652 GHz</td><td>158.90932 us</td><td>49.64454 us</td><td>0</td><td>0.0003</td><td>0.0003</td><td>0.0167 </td><tr><td><font style='font-weight:bold'>Q1</font></td><td>5.01443 GHz</td><td>133.76739 us</td><td>28.98219 us</td><td>0</td><td>0.00026</td><td>0.00026</td><td>0.0322 </td><tr><td><font style='font-weight:bold'>Q2</font></td><td>5.10841 GHz</td><td>232.64389 us</td><td>19.79247 us</td><td>0</td><td>0.00031</td><td>0.00031</td><td>0.0347 </td><tr><td><font style='font-weight:bold'>Q3</font></td><td>5.17815 GHz</td><td>128.87584 us</td><td>36.90866 us</td><td>0</td><td>0.00025</td><td>0.00025</td><td>0.0195 </td><tr><td><font style='font-weight:bold'>Q4</font></td><td>5.21301 GHz</td><td>86.24685 us</td><td>85.72969 us</td><td>0</td><td>0.00023</td><td>0.00023</td><td>0.0185 </td><tr><td><font style='font-weight:bold'>Q5</font></td><td>5.06333 GHz</td><td>71.97079 us</td><td>41.26078 us</td><td>0</td><td>0.00022</td><td>0.00022</td><td>0.0431 </td><tr><td><font style='font-weight:bold'>Q6</font></td><td>5.30067 GHz</td><td>103.01265 us</td><td>21.99435 us</td><td>0</td><td>0.00026</td><td>0.00026</td><td>0.0627 </td></table>"
          }
        },
        "f23a31bf88fd423481d167f967c91660": {
          "model_module": "@jupyter-widgets/base",
          "model_name": "LayoutModel",
          "model_module_version": "1.2.0",
          "state": {
            "_model_module": "@jupyter-widgets/base",
            "_model_module_version": "1.2.0",
            "_model_name": "LayoutModel",
            "_view_count": null,
            "_view_module": "@jupyter-widgets/base",
            "_view_module_version": "1.2.0",
            "_view_name": "LayoutView",
            "align_content": null,
            "align_items": null,
            "align_self": null,
            "border": null,
            "bottom": null,
            "display": null,
            "flex": null,
            "flex_flow": null,
            "grid_area": null,
            "grid_auto_columns": null,
            "grid_auto_flow": null,
            "grid_auto_rows": null,
            "grid_column": null,
            "grid_gap": null,
            "grid_row": null,
            "grid_template_areas": null,
            "grid_template_columns": null,
            "grid_template_rows": null,
            "height": null,
            "justify_content": null,
            "justify_items": null,
            "left": null,
            "margin": null,
            "max_height": null,
            "max_width": null,
            "min_height": null,
            "min_width": null,
            "object_fit": null,
            "object_position": null,
            "order": null,
            "overflow": null,
            "overflow_x": null,
            "overflow_y": null,
            "padding": null,
            "right": null,
            "top": null,
            "visibility": null,
            "width": null
          }
        },
        "e805c70dbb1f4887a2eea6990e6daf92": {
          "model_module": "@jupyter-widgets/controls",
          "model_name": "HTMLModel",
          "model_module_version": "1.5.0",
          "state": {
            "_dom_classes": [],
            "_model_module": "@jupyter-widgets/controls",
            "_model_module_version": "1.5.0",
            "_model_name": "HTMLModel",
            "_view_count": null,
            "_view_module": "@jupyter-widgets/controls",
            "_view_module_version": "1.5.0",
            "_view_name": "HTMLView",
            "description": "",
            "description_tooltip": null,
            "layout": "IPY_MODEL_c0ecab795e7345c6814649a9fc747c26",
            "placeholder": "​",
            "style": "IPY_MODEL_a4258cd9679b40ad9169158bd6985c2f",
            "value": "<div><font style='font-weight:bold'>last_update_date</font>: 2023-03-14 21:13:51+00:00</div>"
          }
        },
        "ded8eb2da5384128bce83b121f4f1657": {
          "model_module": "@jupyter-widgets/controls",
          "model_name": "HTMLModel",
          "model_module_version": "1.5.0",
          "state": {
            "_dom_classes": [],
            "_model_module": "@jupyter-widgets/controls",
            "_model_module_version": "1.5.0",
            "_model_name": "HTMLModel",
            "_view_count": null,
            "_view_module": "@jupyter-widgets/controls",
            "_view_module_version": "1.5.0",
            "_view_name": "HTMLView",
            "description": "",
            "description_tooltip": null,
            "layout": "IPY_MODEL_55e88b2ac96c4fafa21effc11c17e177",
            "placeholder": "​",
            "style": "IPY_MODEL_caf40e8e5c784a3d86b21277043087c6",
            "value": "<table><style>\ntable {\n    border-collapse: collapse;\n    width: auto;\n}\n\nth, td {\n    text-align: left;\n    padding: 8px;\n}\n\ntr:nth-child(even) {background-color: #f6f6f6;};\n</style><tr><th></th><th>Type</th><th>Gate error</th></tr><tr><td><font style='font-weight:bold'>cx6_5</font></td><td>cx</td><td>0.0071</td></tr><tr><td><font style='font-weight:bold'>cx5_6</font></td><td>cx</td><td>0.0071</td></tr><tr><td><font style='font-weight:bold'>cx5_4</font></td><td>cx</td><td>0.01185</td></tr><tr><td><font style='font-weight:bold'>cx4_5</font></td><td>cx</td><td>0.01185</td></tr></table>"
          }
        },
        "2890f0fa32d448049e4aecb125c2c60e": {
          "model_module": "@jupyter-widgets/controls",
          "model_name": "HTMLModel",
          "model_module_version": "1.5.0",
          "state": {
            "_dom_classes": [],
            "_model_module": "@jupyter-widgets/controls",
            "_model_module_version": "1.5.0",
            "_model_name": "HTMLModel",
            "_view_count": null,
            "_view_module": "@jupyter-widgets/controls",
            "_view_module_version": "1.5.0",
            "_view_name": "HTMLView",
            "description": "",
            "description_tooltip": null,
            "layout": "IPY_MODEL_6514aba580274f288c50d92a63447719",
            "placeholder": "​",
            "style": "IPY_MODEL_8984c0233ab64e4aafc3719d9190837c",
            "value": "<table><style>\ntable {\n    border-collapse: collapse;\n    width: auto;\n}\n\nth, td {\n    text-align: left;\n    padding: 8px;\n}\n\ntr:nth-child(even) {background-color: #f6f6f6;};\n</style><tr><th></th><th>Type</th><th>Gate error</th></tr><tr><td><font style='font-weight:bold'>cx3_5</font></td><td>cx</td><td>0.00592</td></tr><tr><td><font style='font-weight:bold'>cx5_3</font></td><td>cx</td><td>0.00592</td></tr><tr><td><font style='font-weight:bold'>cx2_1</font></td><td>cx</td><td>0.01041</td></tr><tr><td><font style='font-weight:bold'>cx1_2</font></td><td>cx</td><td>0.01041</td></tr></table>"
          }
        },
        "ba6f148fcd044c2c882e8af477617dce": {
          "model_module": "@jupyter-widgets/controls",
          "model_name": "HTMLModel",
          "model_module_version": "1.5.0",
          "state": {
            "_dom_classes": [],
            "_model_module": "@jupyter-widgets/controls",
            "_model_module_version": "1.5.0",
            "_model_name": "HTMLModel",
            "_view_count": null,
            "_view_module": "@jupyter-widgets/controls",
            "_view_module_version": "1.5.0",
            "_view_name": "HTMLView",
            "description": "",
            "description_tooltip": null,
            "layout": "IPY_MODEL_8b5c96b1032c4c5d8261fa5f6ba4de97",
            "placeholder": "​",
            "style": "IPY_MODEL_615f6ebc8a65442b949b89ccf3926afa",
            "value": "<table><style>\ntable {\n    border-collapse: collapse;\n    width: auto;\n}\n\nth, td {\n    text-align: left;\n    padding: 8px;\n}\n\ntr:nth-child(even) {background-color: #f6f6f6;};\n</style><tr><th></th><th>Type</th><th>Gate error</th></tr><tr><td><font style='font-weight:bold'>cx1_3</font></td><td>cx</td><td>0.00842</td></tr><tr><td><font style='font-weight:bold'>cx3_1</font></td><td>cx</td><td>0.00842</td></tr><tr><td><font style='font-weight:bold'>cx0_1</font></td><td>cx</td><td>0.00758</td></tr><tr><td><font style='font-weight:bold'>cx1_0</font></td><td>cx</td><td>0.00758</td></tr></table>"
          }
        },
        "562b1752dbfd42c898613158fb5dc32c": {
          "model_module": "@jupyter-widgets/base",
          "model_name": "LayoutModel",
          "model_module_version": "1.2.0",
          "state": {
            "_model_module": "@jupyter-widgets/base",
            "_model_module_version": "1.2.0",
            "_model_name": "LayoutModel",
            "_view_count": null,
            "_view_module": "@jupyter-widgets/base",
            "_view_module_version": "1.2.0",
            "_view_name": "LayoutView",
            "align_content": null,
            "align_items": null,
            "align_self": null,
            "border": null,
            "bottom": null,
            "display": null,
            "flex": null,
            "flex_flow": null,
            "grid_area": null,
            "grid_auto_columns": null,
            "grid_auto_flow": null,
            "grid_auto_rows": null,
            "grid_column": null,
            "grid_gap": "0px 0px",
            "grid_row": null,
            "grid_template_areas": "\n                                                   \"top top top\"\n                                                   \"left middle right\"\n                                                   ",
            "grid_template_columns": "33% 33% 33%",
            "grid_template_rows": "auto auto",
            "height": null,
            "justify_content": null,
            "justify_items": null,
            "left": null,
            "margin": null,
            "max_height": null,
            "max_width": null,
            "min_height": null,
            "min_width": null,
            "object_fit": null,
            "object_position": null,
            "order": null,
            "overflow": null,
            "overflow_x": null,
            "overflow_y": null,
            "padding": null,
            "right": null,
            "top": null,
            "visibility": null,
            "width": null
          }
        },
        "70c37cb12b574bc3ac8ad23bf3207ed0": {
          "model_module": "@jupyter-widgets/base",
          "model_name": "LayoutModel",
          "model_module_version": "1.2.0",
          "state": {
            "_model_module": "@jupyter-widgets/base",
            "_model_module_version": "1.2.0",
            "_model_name": "LayoutModel",
            "_view_count": null,
            "_view_module": "@jupyter-widgets/base",
            "_view_module_version": "1.2.0",
            "_view_name": "LayoutView",
            "align_content": null,
            "align_items": null,
            "align_self": null,
            "border": null,
            "bottom": null,
            "display": null,
            "flex": null,
            "flex_flow": null,
            "grid_area": null,
            "grid_auto_columns": null,
            "grid_auto_flow": null,
            "grid_auto_rows": null,
            "grid_column": null,
            "grid_gap": null,
            "grid_row": null,
            "grid_template_areas": null,
            "grid_template_columns": null,
            "grid_template_rows": null,
            "height": null,
            "justify_content": null,
            "justify_items": null,
            "left": null,
            "margin": null,
            "max_height": "620px",
            "max_width": null,
            "min_height": null,
            "min_width": null,
            "object_fit": null,
            "object_position": null,
            "order": null,
            "overflow": null,
            "overflow_x": null,
            "overflow_y": null,
            "padding": null,
            "right": null,
            "top": null,
            "visibility": null,
            "width": null
          }
        },
        "aa1642ad3ee04da0907f9bcf2b0a0b7f": {
          "model_module": "@jupyter-widgets/base",
          "model_name": "LayoutModel",
          "model_module_version": "1.2.0",
          "state": {
            "_model_module": "@jupyter-widgets/base",
            "_model_module_version": "1.2.0",
            "_model_name": "LayoutModel",
            "_view_count": null,
            "_view_module": "@jupyter-widgets/base",
            "_view_module_version": "1.2.0",
            "_view_name": "LayoutView",
            "align_content": null,
            "align_items": null,
            "align_self": null,
            "border": null,
            "bottom": null,
            "display": null,
            "flex": null,
            "flex_flow": null,
            "grid_area": "left",
            "grid_auto_columns": null,
            "grid_auto_flow": null,
            "grid_auto_rows": null,
            "grid_column": null,
            "grid_gap": null,
            "grid_row": null,
            "grid_template_areas": null,
            "grid_template_columns": null,
            "grid_template_rows": null,
            "height": null,
            "justify_content": null,
            "justify_items": null,
            "left": null,
            "margin": null,
            "max_height": null,
            "max_width": null,
            "min_height": null,
            "min_width": null,
            "object_fit": null,
            "object_position": null,
            "order": null,
            "overflow": null,
            "overflow_x": null,
            "overflow_y": null,
            "padding": null,
            "right": null,
            "top": null,
            "visibility": null,
            "width": "100%"
          }
        },
        "a469d197747447678da5c90dd881da57": {
          "model_module": "@jupyter-widgets/controls",
          "model_name": "DescriptionStyleModel",
          "model_module_version": "1.5.0",
          "state": {
            "_model_module": "@jupyter-widgets/controls",
            "_model_module_version": "1.5.0",
            "_model_name": "DescriptionStyleModel",
            "_view_count": null,
            "_view_module": "@jupyter-widgets/base",
            "_view_module_version": "1.2.0",
            "_view_name": "StyleView",
            "description_width": ""
          }
        },
        "b53e8d9abd58415f8057eecb7443d714": {
          "model_module": "@jupyter-widgets/base",
          "model_name": "LayoutModel",
          "model_module_version": "1.2.0",
          "state": {
            "_model_module": "@jupyter-widgets/base",
            "_model_module_version": "1.2.0",
            "_model_name": "LayoutModel",
            "_view_count": null,
            "_view_module": "@jupyter-widgets/base",
            "_view_module_version": "1.2.0",
            "_view_name": "LayoutView",
            "align_content": null,
            "align_items": null,
            "align_self": null,
            "border": null,
            "bottom": null,
            "display": null,
            "flex": null,
            "flex_flow": null,
            "grid_area": "bottom",
            "grid_auto_columns": null,
            "grid_auto_flow": null,
            "grid_auto_rows": null,
            "grid_column": null,
            "grid_gap": null,
            "grid_row": null,
            "grid_template_areas": null,
            "grid_template_columns": null,
            "grid_template_rows": null,
            "height": null,
            "justify_content": null,
            "justify_items": null,
            "left": null,
            "margin": null,
            "max_height": null,
            "max_width": null,
            "min_height": null,
            "min_width": null,
            "object_fit": null,
            "object_position": null,
            "order": null,
            "overflow": null,
            "overflow_x": null,
            "overflow_y": null,
            "padding": null,
            "right": null,
            "top": null,
            "visibility": null,
            "width": "auto"
          }
        },
        "e6bb0086831244d880fc8fc4b0416834": {
          "model_module": "@jupyter-widgets/controls",
          "model_name": "DescriptionStyleModel",
          "model_module_version": "1.5.0",
          "state": {
            "_model_module": "@jupyter-widgets/controls",
            "_model_module_version": "1.5.0",
            "_model_name": "DescriptionStyleModel",
            "_view_count": null,
            "_view_module": "@jupyter-widgets/base",
            "_view_module_version": "1.2.0",
            "_view_name": "StyleView",
            "description_width": ""
          }
        },
        "b32b4f1069454223bbc90d0ed65e6574": {
          "model_module": "@jupyter-widgets/base",
          "model_name": "LayoutModel",
          "model_module_version": "1.2.0",
          "state": {
            "_model_module": "@jupyter-widgets/base",
            "_model_module_version": "1.2.0",
            "_model_name": "LayoutModel",
            "_view_count": null,
            "_view_module": "@jupyter-widgets/base",
            "_view_module_version": "1.2.0",
            "_view_name": "LayoutView",
            "align_content": null,
            "align_items": null,
            "align_self": null,
            "border": null,
            "bottom": null,
            "display": null,
            "flex": null,
            "flex_flow": null,
            "grid_area": null,
            "grid_auto_columns": null,
            "grid_auto_flow": null,
            "grid_auto_rows": null,
            "grid_column": null,
            "grid_gap": null,
            "grid_row": null,
            "grid_template_areas": null,
            "grid_template_columns": null,
            "grid_template_rows": null,
            "height": null,
            "justify_content": null,
            "justify_items": null,
            "left": null,
            "margin": null,
            "max_height": null,
            "max_width": null,
            "min_height": null,
            "min_width": null,
            "object_fit": null,
            "object_position": null,
            "order": null,
            "overflow": null,
            "overflow_x": null,
            "overflow_y": null,
            "padding": null,
            "right": null,
            "top": null,
            "visibility": null,
            "width": null
          }
        },
        "c113f1935f2b4e5eb1638e8ab0eb7fef": {
          "model_module": "@jupyter-widgets/controls",
          "model_name": "DescriptionStyleModel",
          "model_module_version": "1.5.0",
          "state": {
            "_model_module": "@jupyter-widgets/controls",
            "_model_module_version": "1.5.0",
            "_model_name": "DescriptionStyleModel",
            "_view_count": null,
            "_view_module": "@jupyter-widgets/base",
            "_view_module_version": "1.2.0",
            "_view_name": "StyleView",
            "description_width": ""
          }
        },
        "2cdbc081dc3f4583b6155e542e77671f": {
          "model_module": "@jupyter-widgets/base",
          "model_name": "LayoutModel",
          "model_module_version": "1.2.0",
          "state": {
            "_model_module": "@jupyter-widgets/base",
            "_model_module_version": "1.2.0",
            "_model_name": "LayoutModel",
            "_view_count": null,
            "_view_module": "@jupyter-widgets/base",
            "_view_module_version": "1.2.0",
            "_view_name": "LayoutView",
            "align_content": null,
            "align_items": null,
            "align_self": null,
            "border": null,
            "bottom": null,
            "display": null,
            "flex": null,
            "flex_flow": null,
            "grid_area": null,
            "grid_auto_columns": null,
            "grid_auto_flow": null,
            "grid_auto_rows": null,
            "grid_column": null,
            "grid_gap": null,
            "grid_row": null,
            "grid_template_areas": null,
            "grid_template_columns": null,
            "grid_template_rows": null,
            "height": null,
            "justify_content": null,
            "justify_items": null,
            "left": null,
            "margin": null,
            "max_height": null,
            "max_width": null,
            "min_height": null,
            "min_width": null,
            "object_fit": null,
            "object_position": null,
            "order": null,
            "overflow": null,
            "overflow_x": null,
            "overflow_y": null,
            "padding": null,
            "right": null,
            "top": null,
            "visibility": null,
            "width": null
          }
        },
        "a8424b9f18c44bffb2ff1e3007b00f76": {
          "model_module": "@jupyter-widgets/controls",
          "model_name": "DescriptionStyleModel",
          "model_module_version": "1.5.0",
          "state": {
            "_model_module": "@jupyter-widgets/controls",
            "_model_module_version": "1.5.0",
            "_model_name": "DescriptionStyleModel",
            "_view_count": null,
            "_view_module": "@jupyter-widgets/base",
            "_view_module_version": "1.2.0",
            "_view_name": "StyleView",
            "description_width": ""
          }
        },
        "c0ecab795e7345c6814649a9fc747c26": {
          "model_module": "@jupyter-widgets/base",
          "model_name": "LayoutModel",
          "model_module_version": "1.2.0",
          "state": {
            "_model_module": "@jupyter-widgets/base",
            "_model_module_version": "1.2.0",
            "_model_name": "LayoutModel",
            "_view_count": null,
            "_view_module": "@jupyter-widgets/base",
            "_view_module_version": "1.2.0",
            "_view_name": "LayoutView",
            "align_content": null,
            "align_items": null,
            "align_self": null,
            "border": null,
            "bottom": null,
            "display": null,
            "flex": null,
            "flex_flow": null,
            "grid_area": "top",
            "grid_auto_columns": null,
            "grid_auto_flow": null,
            "grid_auto_rows": null,
            "grid_column": null,
            "grid_gap": null,
            "grid_row": null,
            "grid_template_areas": null,
            "grid_template_columns": null,
            "grid_template_rows": null,
            "height": null,
            "justify_content": null,
            "justify_items": null,
            "left": null,
            "margin": null,
            "max_height": null,
            "max_width": null,
            "min_height": null,
            "min_width": null,
            "object_fit": null,
            "object_position": null,
            "order": null,
            "overflow": null,
            "overflow_x": null,
            "overflow_y": null,
            "padding": null,
            "right": null,
            "top": null,
            "visibility": null,
            "width": null
          }
        },
        "a4258cd9679b40ad9169158bd6985c2f": {
          "model_module": "@jupyter-widgets/controls",
          "model_name": "DescriptionStyleModel",
          "model_module_version": "1.5.0",
          "state": {
            "_model_module": "@jupyter-widgets/controls",
            "_model_module_version": "1.5.0",
            "_model_name": "DescriptionStyleModel",
            "_view_count": null,
            "_view_module": "@jupyter-widgets/base",
            "_view_module_version": "1.2.0",
            "_view_name": "StyleView",
            "description_width": ""
          }
        },
        "55e88b2ac96c4fafa21effc11c17e177": {
          "model_module": "@jupyter-widgets/base",
          "model_name": "LayoutModel",
          "model_module_version": "1.2.0",
          "state": {
            "_model_module": "@jupyter-widgets/base",
            "_model_module_version": "1.2.0",
            "_model_name": "LayoutModel",
            "_view_count": null,
            "_view_module": "@jupyter-widgets/base",
            "_view_module_version": "1.2.0",
            "_view_name": "LayoutView",
            "align_content": null,
            "align_items": null,
            "align_self": null,
            "border": null,
            "bottom": null,
            "display": null,
            "flex": null,
            "flex_flow": null,
            "grid_area": "left",
            "grid_auto_columns": null,
            "grid_auto_flow": null,
            "grid_auto_rows": null,
            "grid_column": null,
            "grid_gap": null,
            "grid_row": null,
            "grid_template_areas": null,
            "grid_template_columns": null,
            "grid_template_rows": null,
            "height": null,
            "justify_content": null,
            "justify_items": null,
            "left": null,
            "margin": null,
            "max_height": null,
            "max_width": null,
            "min_height": null,
            "min_width": null,
            "object_fit": null,
            "object_position": null,
            "order": null,
            "overflow": null,
            "overflow_x": null,
            "overflow_y": null,
            "padding": null,
            "right": null,
            "top": null,
            "visibility": null,
            "width": null
          }
        },
        "caf40e8e5c784a3d86b21277043087c6": {
          "model_module": "@jupyter-widgets/controls",
          "model_name": "DescriptionStyleModel",
          "model_module_version": "1.5.0",
          "state": {
            "_model_module": "@jupyter-widgets/controls",
            "_model_module_version": "1.5.0",
            "_model_name": "DescriptionStyleModel",
            "_view_count": null,
            "_view_module": "@jupyter-widgets/base",
            "_view_module_version": "1.2.0",
            "_view_name": "StyleView",
            "description_width": ""
          }
        },
        "6514aba580274f288c50d92a63447719": {
          "model_module": "@jupyter-widgets/base",
          "model_name": "LayoutModel",
          "model_module_version": "1.2.0",
          "state": {
            "_model_module": "@jupyter-widgets/base",
            "_model_module_version": "1.2.0",
            "_model_name": "LayoutModel",
            "_view_count": null,
            "_view_module": "@jupyter-widgets/base",
            "_view_module_version": "1.2.0",
            "_view_name": "LayoutView",
            "align_content": null,
            "align_items": null,
            "align_self": null,
            "border": null,
            "bottom": null,
            "display": null,
            "flex": null,
            "flex_flow": null,
            "grid_area": "middle",
            "grid_auto_columns": null,
            "grid_auto_flow": null,
            "grid_auto_rows": null,
            "grid_column": null,
            "grid_gap": null,
            "grid_row": null,
            "grid_template_areas": null,
            "grid_template_columns": null,
            "grid_template_rows": null,
            "height": null,
            "justify_content": null,
            "justify_items": null,
            "left": null,
            "margin": null,
            "max_height": null,
            "max_width": null,
            "min_height": null,
            "min_width": null,
            "object_fit": null,
            "object_position": null,
            "order": null,
            "overflow": null,
            "overflow_x": null,
            "overflow_y": null,
            "padding": null,
            "right": null,
            "top": null,
            "visibility": null,
            "width": null
          }
        },
        "8984c0233ab64e4aafc3719d9190837c": {
          "model_module": "@jupyter-widgets/controls",
          "model_name": "DescriptionStyleModel",
          "model_module_version": "1.5.0",
          "state": {
            "_model_module": "@jupyter-widgets/controls",
            "_model_module_version": "1.5.0",
            "_model_name": "DescriptionStyleModel",
            "_view_count": null,
            "_view_module": "@jupyter-widgets/base",
            "_view_module_version": "1.2.0",
            "_view_name": "StyleView",
            "description_width": ""
          }
        },
        "8b5c96b1032c4c5d8261fa5f6ba4de97": {
          "model_module": "@jupyter-widgets/base",
          "model_name": "LayoutModel",
          "model_module_version": "1.2.0",
          "state": {
            "_model_module": "@jupyter-widgets/base",
            "_model_module_version": "1.2.0",
            "_model_name": "LayoutModel",
            "_view_count": null,
            "_view_module": "@jupyter-widgets/base",
            "_view_module_version": "1.2.0",
            "_view_name": "LayoutView",
            "align_content": null,
            "align_items": null,
            "align_self": null,
            "border": null,
            "bottom": null,
            "display": null,
            "flex": null,
            "flex_flow": null,
            "grid_area": "right",
            "grid_auto_columns": null,
            "grid_auto_flow": null,
            "grid_auto_rows": null,
            "grid_column": null,
            "grid_gap": null,
            "grid_row": null,
            "grid_template_areas": null,
            "grid_template_columns": null,
            "grid_template_rows": null,
            "height": null,
            "justify_content": null,
            "justify_items": null,
            "left": null,
            "margin": null,
            "max_height": null,
            "max_width": null,
            "min_height": null,
            "min_width": null,
            "object_fit": null,
            "object_position": null,
            "order": null,
            "overflow": null,
            "overflow_x": null,
            "overflow_y": null,
            "padding": null,
            "right": null,
            "top": null,
            "visibility": null,
            "width": null
          }
        },
        "615f6ebc8a65442b949b89ccf3926afa": {
          "model_module": "@jupyter-widgets/controls",
          "model_name": "DescriptionStyleModel",
          "model_module_version": "1.5.0",
          "state": {
            "_model_module": "@jupyter-widgets/controls",
            "_model_module_version": "1.5.0",
            "_model_name": "DescriptionStyleModel",
            "_view_count": null,
            "_view_module": "@jupyter-widgets/base",
            "_view_module_version": "1.2.0",
            "_view_name": "StyleView",
            "description_width": ""
          }
        },
        "887f4c59d62c4761950cfb30bc6ec06d": {
          "model_module": "@jupyter-widgets/base",
          "model_name": "LayoutModel",
          "model_module_version": "1.2.0",
          "state": {
            "_model_module": "@jupyter-widgets/base",
            "_model_module_version": "1.2.0",
            "_model_name": "LayoutModel",
            "_view_count": null,
            "_view_module": "@jupyter-widgets/base",
            "_view_module_version": "1.2.0",
            "_view_name": "LayoutView",
            "align_content": null,
            "align_items": "center",
            "align_self": null,
            "border": null,
            "bottom": null,
            "display": "flex-inline",
            "flex": null,
            "flex_flow": null,
            "grid_area": null,
            "grid_auto_columns": null,
            "grid_auto_flow": null,
            "grid_auto_rows": null,
            "grid_column": null,
            "grid_gap": null,
            "grid_row": null,
            "grid_template_areas": null,
            "grid_template_columns": null,
            "grid_template_rows": null,
            "height": null,
            "justify_content": null,
            "justify_items": null,
            "left": null,
            "margin": null,
            "max_height": null,
            "max_width": null,
            "min_height": null,
            "min_width": null,
            "object_fit": null,
            "object_position": null,
            "order": null,
            "overflow": null,
            "overflow_x": null,
            "overflow_y": null,
            "padding": null,
            "right": null,
            "top": null,
            "visibility": null,
            "width": null
          }
        },
        "cc0674f709114460aca1a3703373db08": {
          "model_module": "@jupyter-widgets/base",
          "model_name": "LayoutModel",
          "model_module_version": "1.2.0",
          "state": {
            "_model_module": "@jupyter-widgets/base",
            "_model_module_version": "1.2.0",
            "_model_name": "LayoutModel",
            "_view_count": null,
            "_view_module": "@jupyter-widgets/base",
            "_view_module_version": "1.2.0",
            "_view_name": "LayoutView",
            "align_content": null,
            "align_items": "center",
            "align_self": null,
            "border": null,
            "bottom": null,
            "display": "flex-inline",
            "flex": null,
            "flex_flow": null,
            "grid_area": "right",
            "grid_auto_columns": null,
            "grid_auto_flow": null,
            "grid_auto_rows": null,
            "grid_column": null,
            "grid_gap": null,
            "grid_row": null,
            "grid_template_areas": null,
            "grid_template_columns": null,
            "grid_template_rows": null,
            "height": null,
            "justify_content": null,
            "justify_items": null,
            "left": null,
            "margin": null,
            "max_height": "325px",
            "max_width": null,
            "min_height": null,
            "min_width": null,
            "object_fit": null,
            "object_position": null,
            "order": null,
            "overflow": null,
            "overflow_x": null,
            "overflow_y": null,
            "padding": "10px 10px 10px 10px",
            "right": null,
            "top": null,
            "visibility": null,
            "width": "auto"
          }
        }
      }
    }
  },
  "cells": [
    {
      "cell_type": "markdown",
      "metadata": {
        "id": "view-in-github",
        "colab_type": "text"
      },
      "source": [
        "<a href=\"https://colab.research.google.com/github/shhesterka04/q_prj/blob/main/qiskit_lab1.ipynb\" target=\"_parent\"><img src=\"https://colab.research.google.com/assets/colab-badge.svg\" alt=\"Open In Colab\"/></a>"
      ]
    },
    {
      "cell_type": "markdown",
      "source": [
        "# [Lab 1 Quantum Circuits](https://learn.qiskit.org/course/ch-labs/lab-1-quantum-circuits)"
      ],
      "metadata": {
        "id": "2o_qM9CLToVR"
      }
    },
    {
      "cell_type": "code",
      "source": [
        "!pip install qiskit \n",
        "!pip install pylatexenc"
      ],
      "metadata": {
        "id": "dpU9CslcHzbR"
      },
      "execution_count": null,
      "outputs": []
    },
    {
      "cell_type": "code",
      "source": [
        "%matplotlib inline"
      ],
      "metadata": {
        "id": "dQXEZATETlbw"
      },
      "execution_count": null,
      "outputs": []
    },
    {
      "cell_type": "code",
      "source": [
        "from qiskit import *\n",
        "from qiskit.visualization import plot_histogram\n",
        "import numpy as np"
      ],
      "metadata": {
        "id": "jtBSKsF_Tve_"
      },
      "execution_count": null,
      "outputs": []
    },
    {
      "cell_type": "markdown",
      "source": [
        "# Goal\n",
        "\n",
        "Create quantum circuit functions that can compute the \n",
        "- XOR, \n",
        "- AND\n",
        "- NAND\n",
        "- OR gates \n",
        "**using**\n",
        "- the NOT gate (expressed as x in Qiskit)\n",
        "- the CNOT gate (expressed as cx in Qiskit)\n",
        "- the Toffoli gate (expressed as ccx in Qiskit)."
      ],
      "metadata": {
        "id": "vkZri92_UEKs"
      }
    },
    {
      "cell_type": "code",
      "source": [
        "def NOT(inp):\n",
        "  \"\"\"\n",
        "  Реализация NOT гейта\n",
        "  На ввод идет inp (str) - кубит с индексом 0\n",
        "  На вывод идет противоположное значение кубита с индексом 0\n",
        "  \"\"\"\n",
        "  qc = QuantumCircuit(1,1) # 1 кубит и 1 бит\n",
        "  qc.reset(0)\n",
        "\n",
        "  # По умолчанию у нас стоит 0, если мы получаем на ввод не ноль, то состояние\n",
        "  # Нужно инвертировать\n",
        "  if inp == \"1\":\n",
        "    qc.x(0)\n",
        "\n",
        "  qc.barrier()\n",
        "  qc.x(0) # Реализуем сам NOT\n",
        "  qc.barrier()\n",
        "\n",
        "  # Измерение кубита\n",
        "  qc.measure(0,0)\n",
        "  qc.draw(\"mpl\")\n",
        "\n",
        "  backend = Aer.get_backend(\"aer_simulator\")\n",
        "  job = backend.run(qc, shorts = 1, memory = True)\n",
        "  output = job.result().get_memory()[0]\n",
        "\n",
        "  return qc,output"
      ],
      "metadata": {
        "id": "EPKTgMtQT9yl"
      },
      "execution_count": null,
      "outputs": []
    },
    {
      "cell_type": "code",
      "source": [
        "# Тест\n",
        "for inp in ['0', '1']:\n",
        "  qc, out = NOT(inp)\n",
        "  print('NOT with input',inp,'gives output',out)\n",
        "  display(qc.draw('mpl'))\n",
        "  print('\\n')"
      ],
      "metadata": {
        "id": "PpL2ZYpEU1HD",
        "colab": {
          "base_uri": "https://localhost:8080/",
          "height": 367
        },
        "outputId": "214d17b5-43fd-48e6-857a-eb078aed876c"
      },
      "execution_count": null,
      "outputs": [
        {
          "output_type": "stream",
          "name": "stdout",
          "text": [
            "NOT with input 0 gives output 1\n"
          ]
        },
        {
          "output_type": "display_data",
          "data": {
            "text/plain": [
              "<Figure size 374.326x144.48 with 1 Axes>"
            ],
            "image/png": "[encoded data removed]"
          },
          "metadata": {}
        },
        {
          "output_type": "stream",
          "name": "stdout",
          "text": [
            "\n",
            "\n",
            "NOT with input 1 gives output 0\n"
          ]
        },
        {
          "output_type": "display_data",
          "data": {
            "text/plain": [
              "<Figure size 434.526x144.48 with 1 Axes>"
            ],
            "image/png": "[encoded data removed]"
          },
          "metadata": {}
        },
        {
          "output_type": "stream",
          "name": "stdout",
          "text": [
            "\n",
            "\n"
          ]
        }
      ]
    },
    {
      "cell_type": "markdown",
      "source": [
        "# XOR gate\n",
        "![image.png](data:image/png;base64,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)\n"
      ],
      "metadata": {
        "id": "jzvk4yAKxoGo"
      }
    },
    {
      "cell_type": "code",
      "source": [
        "def XOR(inp1, inp2):\n",
        "  \"\"\"An XOR gate.\n",
        "    \n",
        "    Parameters:\n",
        "        inpt1 (str): Input 1, encoded in qubit 0.\n",
        "        inpt2 (str): Input 2, encoded in qubit 1.\n",
        "        \n",
        "    Returns:\n",
        "        QuantumCircuit: Output XOR circuit.\n",
        "        str: Output value measured from qubit 1.\n",
        "  \"\"\"\n",
        "  qc = QuantumCircuit(2,2)\n",
        "  qc.reset(range(2))\n",
        "\n",
        "  if inp1 == \"1\":\n",
        "    qc.x(0)\n",
        "  if inp2 == \"1\":\n",
        "    qc.x(1)\n",
        "\n",
        "  qc.barrier()\n",
        "  \n",
        "  qc.cx(0,1)\n",
        "\n",
        "  qc.barrier()\n",
        "\n",
        "  qc.measure(1,0)\n",
        "\n",
        "  backend = Aer.get_backend(\"aer_simulator\")\n",
        "\n",
        "  job = backend.run(qc, shots = 1, memory = True)\n",
        "  output = job.result().get_memory()[0]\n",
        "\n",
        "  return qc, output"
      ],
      "metadata": {
        "id": "sAUNzHSBx2cy"
      },
      "execution_count": null,
      "outputs": []
    },
    {
      "cell_type": "code",
      "source": [
        "for inp1 in [\"0\", \"1\"]:\n",
        "  for inp2 in ['0', '1']:\n",
        "    qc, output = XOR(inp1, inp2)\n",
        "    print('XOR with inputs',inp1,inp2,'gives output',output)\n",
        "    display(qc.draw('mpl'))\n",
        "    print('\\n')"
      ],
      "metadata": {
        "colab": {
          "base_uri": "https://localhost:8080/",
          "height": 897
        },
        "id": "gM8oe4PGzNKH",
        "outputId": "5fe29138-eb55-4991-b3d6-64ed9bb96e74"
      },
      "execution_count": null,
      "outputs": [
        {
          "output_type": "stream",
          "name": "stdout",
          "text": [
            "XOR with inputs 0 0 gives output 00\n"
          ]
        },
        {
          "output_type": "display_data",
          "data": {
            "text/plain": [
              "<Figure size 387.452x204.68 with 1 Axes>"
            ],
            "image/png": "[encoded data removed]"
          },
          "metadata": {}
        },
        {
          "output_type": "stream",
          "name": "stdout",
          "text": [
            "\n",
            "\n",
            "XOR with inputs 0 1 gives output 01\n"
          ]
        },
        {
          "output_type": "display_data",
          "data": {
            "text/plain": [
              "<Figure size 447.652x204.68 with 1 Axes>"
            ],
            "image/png": "[encoded data removed]"
          },
          "metadata": {}
        },
        {
          "output_type": "stream",
          "name": "stdout",
          "text": [
            "\n",
            "\n",
            "XOR with inputs 1 0 gives output 01\n"
          ]
        },
        {
          "output_type": "display_data",
          "data": {
            "text/plain": [
              "<Figure size 447.652x204.68 with 1 Axes>"
            ],
            "image/png": "[encoded data removed]"
          },
          "metadata": {}
        },
        {
          "output_type": "stream",
          "name": "stdout",
          "text": [
            "\n",
            "\n",
            "XOR with inputs 1 1 gives output 00\n"
          ]
        },
        {
          "output_type": "display_data",
          "data": {
            "text/plain": [
              "<Figure size 447.652x204.68 with 1 Axes>"
            ],
            "image/png": "[encoded data removed]"
          },
          "metadata": {}
        },
        {
          "output_type": "stream",
          "name": "stdout",
          "text": [
            "\n",
            "\n"
          ]
        }
      ]
    },
    {
      "cell_type": "markdown",
      "source": [
        "# AND gate\n",
        "![image.png](data:image/png;base64,iVBORw0KGgoAAAANSUhEUgAAAI8AAABnCAIAAAC2FoYrAAAD2UlEQVR4nO2cXZLjIAyExdbea3KzhZs4N7FvMjfxPrClEAFOzICMNv09TDmOCY2aP1uTEAE7OCLa9/1qGeA1zrlfV2sAJ4Bblni4tW0hhOCcc86FEIpXx3e1tD1qFJXGM/d7yFW5Z7at3BDD7PvOS9e6+nX1ROS93zPS63uxrr5YV3yLRa7r45qi8vzYey8KjhCpBtWif/b8z0UU34rh5r+iCBEti9/rbh10u44i1Si7xT26ViA95otj4Pj8spRDLI7zIZ5Xl+sRpWpu5S9TYieIOlOD43muuiiSr+FWK1AO04GOPC7L4kU047H3XhhWi2ktoOnIEHNa2iFEuN90i63iuPP5WEuxUaIsCyjFtj8Ft/JpJy8w7jhXEmMh4sJFKKH4abUPPyiyrj538az4EUi3RD+tFRh3nNclxpM4ZsG93OL54GBsUUYtXH15qoz1HWyi1NxKd4Mp6ULy1IaTu4zughWg9H5rXYmIlsV/ff0pRuoUIYR4P5Qu2kS0bYHvkw74/v4nhrXGXh/Pp6TDSxBbdLsV3oqq7vdQvLM8Fsllty3o34CeGOD59bXjfE/IYRWTTH4lf0g6ytNSQl6tFbxlKFLcE/LL4nkWyV3wuIq+0IinurGv9f3MoVgR/LlPdfnBVXw0JabrafnQsbVt4XZ7zGa3G3VZrYeivUCCH6I9Dpxz/3F1Q/ncdcsocMsSv5tL6kwy+dJ6+cx23PChghvdiop1DBNVXLsUvdPwcYIxE1oCblmiZSbkoa0zGYqV4PJpkF41fJzg9l2GGlOtW+8wTvBpt2LHSbvP/OHrwgwNbxlbed/pJGZ2Lm/4uV1GsTfFSbyfpBmZpOEG1q15dhk1hJfjBOOprhnwVNcYcAuAMWDdMgPWLWPALUs0PtXlY+WE5GzTmrK2lueE4k5wqErl6k6hrw0zoSXgliXgliXgliXgliXgliXgliVO32+JhOnoOwzl6k6hr63D/2WMZiqHBMraMBNaAm4BMAZkI82AbKQx4JYlDGQjudIJ57TZ77cuSQ/O+Z/byEYWmHNUXYIBt2AVY8AtwMAtS8AtS8AtS8AtS8yejZwZZCPnqvQlyEaCKnALgDEgG2kGZCONAbcsMfsvtRK+G5nQ/kutfXUcVITvRjItM+FUIfsoWtyCVVeBXYYl4JYl4JYl4JYl4JYlZv+l1pmTnzaykRG1wE3lkADZSFAFbgEwBmQjzYBspDHgliXa3VL+BtycX7iLqGlrdAtWMZraDGQjZ94pKGszkI2c1irCswxwANyyBNyyBNyyBNyyBNyyRLtb2MczatowtiwBtwAYw186hfuQE/njzQAAAABJRU5ErkJggg==)"
      ],
      "metadata": {
        "id": "6lw9br2G2XYY"
      }
    },
    {
      "cell_type": "code",
      "source": [
        "def AND(inp1,inp2):\n",
        "  \"\"\"An AND gate.\n",
        "    \n",
        "    Parameters:\n",
        "        inpt1 (str): Input 1, encoded in qubit 0.\n",
        "        inpt2 (str): Input 2, encoded in qubit 1.\n",
        "        \n",
        "    Returns:\n",
        "        QuantumCircuit: Output XOR circuit.\n",
        "        str: Output value measured from qubit 2.\n",
        "  \"\"\"\n",
        "  qc = QuantumCircuit(3,1)\n",
        "  qc.reset(range(2))\n",
        "\n",
        "  if inp1=='1':\n",
        "    qc.x(0)\n",
        "  if inp2=='1':\n",
        "    qc.x(1)\n",
        "        \n",
        "  qc.barrier()\n",
        "\n",
        "  qc.ccx(0,1,2)\n",
        "\n",
        "  qc.barrier()\n",
        "  qc.measure(2, 0) # output from qubit 2 is measured\n",
        "  \n",
        "  # We'll run the program on a simulator\n",
        "  backend = Aer.get_backend('aer_simulator')\n",
        "  # Since the output will be deterministic, we can use just a single shot to get it\n",
        "  job = backend.run(qc, shots=1, memory=True)\n",
        "  output = job.result().get_memory()[0]\n",
        "  \n",
        "  return qc, output"
      ],
      "metadata": {
        "id": "nVRRo1Rq2ieE"
      },
      "execution_count": null,
      "outputs": []
    },
    {
      "cell_type": "code",
      "source": [
        "for inp1 in ['0', '1']:\n",
        "  for inp2 in ['0', '1']:\n",
        "    qc, output = AND(inp1, inp2)\n",
        "    print('AND with inputs',inp1,inp2,'gives output',output)\n",
        "    display(qc.draw('mpl'))\n",
        "    print('\\n')"
      ],
      "metadata": {
        "colab": {
          "base_uri": "https://localhost:8080/",
          "height": 1000
        },
        "id": "1c34x5KQ3SkQ",
        "outputId": "d8c45847-a4ec-4b41-98ba-68ab90255d0e"
      },
      "execution_count": null,
      "outputs": [
        {
          "output_type": "stream",
          "name": "stdout",
          "text": [
            "AND with inputs 0 0 gives output 0\n"
          ]
        },
        {
          "output_type": "display_data",
          "data": {
            "text/plain": [
              "<Figure size 387.597x264.88 with 1 Axes>"
            ],
            "image/png": "[encoded data removed]"
          },
          "metadata": {}
        },
        {
          "output_type": "stream",
          "name": "stdout",
          "text": [
            "\n",
            "\n",
            "AND with inputs 0 1 gives output 0\n"
          ]
        },
        {
          "output_type": "display_data",
          "data": {
            "text/plain": [
              "<Figure size 447.797x264.88 with 1 Axes>"
            ],
            "image/png": "[encoded data removed]"
          },
          "metadata": {}
        },
        {
          "output_type": "stream",
          "name": "stdout",
          "text": [
            "\n",
            "\n",
            "AND with inputs 1 0 gives output 0\n"
          ]
        },
        {
          "output_type": "display_data",
          "data": {
            "text/plain": [
              "<Figure size 447.797x264.88 with 1 Axes>"
            ],
            "image/png": "[encoded data removed]"
          },
          "metadata": {}
        },
        {
          "output_type": "stream",
          "name": "stdout",
          "text": [
            "\n",
            "\n",
            "AND with inputs 1 1 gives output 1\n"
          ]
        },
        {
          "output_type": "display_data",
          "data": {
            "text/plain": [
              "<Figure size 447.797x264.88 with 1 Axes>"
            ],
            "image/png": "[encoded data removed]"
          },
          "metadata": {}
        },
        {
          "output_type": "stream",
          "name": "stdout",
          "text": [
            "\n",
            "\n"
          ]
        }
      ]
    },
    {
      "cell_type": "markdown",
      "source": [
        "# NAND gate\n",
        "![image.png](data:image/png;base64,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)"
      ],
      "metadata": {
        "id": "ngPb0ayI46sC"
      }
    },
    {
      "cell_type": "code",
      "source": [
        "def NAND(inp1,inp2):\n",
        "    \"\"\"An NAND gate.\n",
        "    \n",
        "    Parameters:\n",
        "        inpt1 (str): Input 1, encoded in qubit 0.\n",
        "        inpt2 (str): Input 2, encoded in qubit 1.\n",
        "        \n",
        "    Returns:\n",
        "        QuantumCircuit: Output NAND circuit.\n",
        "        str: Output value measured from qubit 2.\n",
        "    \"\"\"\n",
        "    qc = QuantumCircuit(3, 1) \n",
        "    qc.reset(range(3))\n",
        "    \n",
        "    if inp1=='1':\n",
        "        qc.x(0)\n",
        "    if inp2=='1':\n",
        "        qc.x(1)\n",
        "    \n",
        "    qc.barrier()\n",
        "    \n",
        "    qc.ccx(0,1,2)\n",
        "    qc.x(2)\n",
        "    \n",
        "    qc.barrier()\n",
        "    qc.measure(2, 0) # output from qubit 2 is measured\n",
        "  \n",
        "    # We'll run the program on a simulator\n",
        "    backend = Aer.get_backend('aer_simulator')\n",
        "    # Since the output will be deterministic, we can use just a single shot to get it\n",
        "    job = backend.run(qc,shots=1,memory=True)\n",
        "    output = job.result().get_memory()[0]\n",
        "  \n",
        "    return qc, output"
      ],
      "metadata": {
        "id": "6btzGXNf5hlk"
      },
      "execution_count": null,
      "outputs": []
    },
    {
      "cell_type": "code",
      "source": [
        "## Test the function\n",
        "for inp1 in ['0', '1']:\n",
        "    for inp2 in ['0', '1']:\n",
        "        qc, output = NAND(inp1, inp2)\n",
        "        print('NAND with inputs',inp1,inp2,'gives output',output)\n",
        "        display(qc.draw('mpl'))\n",
        "        print('\\n')"
      ],
      "metadata": {
        "colab": {
          "base_uri": "https://localhost:8080/",
          "height": 1000
        },
        "id": "gHKXhb9n58N_",
        "outputId": "e2064e00-c457-4f28-b2c9-30d6d77e6fb1"
      },
      "execution_count": null,
      "outputs": [
        {
          "output_type": "stream",
          "name": "stdout",
          "text": [
            "NAND with inputs 0 0 gives output 1\n"
          ]
        },
        {
          "output_type": "display_data",
          "data": {
            "text/plain": [
              "<Figure size 447.797x264.88 with 1 Axes>"
            ],
            "image/png": "[encoded data removed]"
          },
          "metadata": {}
        },
        {
          "output_type": "stream",
          "name": "stdout",
          "text": [
            "\n",
            "\n",
            "NAND with inputs 0 1 gives output 1\n"
          ]
        },
        {
          "output_type": "display_data",
          "data": {
            "text/plain": [
              "<Figure size 507.997x264.88 with 1 Axes>"
            ],
            "image/png": "[encoded data removed]"
          },
          "metadata": {}
        },
        {
          "output_type": "stream",
          "name": "stdout",
          "text": [
            "\n",
            "\n",
            "NAND with inputs 1 0 gives output 1\n"
          ]
        },
        {
          "output_type": "display_data",
          "data": {
            "text/plain": [
              "<Figure size 507.997x264.88 with 1 Axes>"
            ],
            "image/png": "[encoded data removed]"
          },
          "metadata": {}
        },
        {
          "output_type": "stream",
          "name": "stdout",
          "text": [
            "\n",
            "\n",
            "NAND with inputs 1 1 gives output 0\n"
          ]
        },
        {
          "output_type": "display_data",
          "data": {
            "text/plain": [
              "<Figure size 507.997x264.88 with 1 Axes>"
            ],
            "image/png": "[encoded data removed]"
          },
          "metadata": {}
        },
        {
          "output_type": "stream",
          "name": "stdout",
          "text": [
            "\n",
            "\n"
          ]
        }
      ]
    },
    {
      "cell_type": "markdown",
      "source": [
        "# OR gate\n",
        "\n",
        "![image.png](data:image/png;base64,iVBORw0KGgoAAAANSUhEUgAAAI8AAABnCAIAAAC2FoYrAAADsElEQVR4nO2cXXLjIBCEYWvvFd3M6Cb2TeSb5CbaB7YmMn8WRAy0q78nRRaiodEw1iQxhuBgjTH7vo+WQd5jrf0zWgOpgG4h8ePW87mu62qttdau65q82n+qpS2U9Hz+qLKvBJ9+Mvu+y9a1bW7bnDHGObdHHK+/im1zyb5EhpfknPPyYiUFwVeJmQGTm/3a878XEZ/39tzv/+cusCRodZWwHgO8irRbfl7euiXPoj+QaZUfg/Uet91fc9FCX4U75C4WxPXgcfTnZRRJMXKNjG4gpWlK6ovn6353gbv+2DkXGJab6zMro9wqXhmCWCXzLue9Q0nxQVt//+GGJdzyEnOx+8yM/+Y411eulVAreN/3bXOxi7UiNTFBBv94rF797XYzCOyHh6OKx2NdFvf9bZblzZXKafB7vHUybMm7kvYarWcryDIKcbUQqXoIG8WLW8HsFBqcOc7tWz7+nJmU4+qJV1LQKrfOcvvWGTHStpB2aWJioUdyDc4cxzu/zEsw+EKOcMzcJC+IeyzfJJkTyo/J83KfXO9DMD3e6voof+09L2FaYSf5/Le61trHYzXG+PdSx+9YiHz4s/V8rsvyE82WxXx9YaS7MXOlpuQt2s+BtfaDu+vK5+9bHwbdQuJvc0udIBNvrQMj2/khd5Ld6JbXrWNY0MWorah2yD1kMxJeg056TbeQaImE8lDrBMNg2Q4Mg6ZmyD1kt2cZakyybyU5WiLH4mtw5e9lV7vlNQUq55m+HhSGLAPXmYSWZyteNReJmZdJhlyXZSRXkA/l10mai6mGDLBvzZBlvCVW1UM23+rCwLe6YNAtQvrAfQsG7ltg0C0kGt/qyrFyQXK2sKasreU94VFW741Bubsq9LUxEiJBt5CgW0jQLSToFhJ0Cwm6hUT1962gbNr7G4Zyd1Xoa7vg9zJ6M5VDAcraGAmRoFuE9IHVSBhYjQSDbiHR4tbxX6ReLqjQqVpftahpm70aKb307qIZTW0AkXDmTEFZG4Bb01pl+C6DFKBbSNAtJOgWEnQLidmrkeQIQDVyYKcnUdPGSIgE3SKkD6xGwsBqJBh0C4l2t9TqOkOKn1XMW430aFo17d9GemavRk44ZaMAqEbSKoHVSJKFbiFBt5CgW0jQLSRm/0+tLH4eaXdLbeLmd4jVSJKAbhHSB1YjYWA1Egy6hQRANXJId1WoaWt0i1YJrEaO7K4KViMHd1cFq5EkC91Cgm4hQbeQoFtI0C0k2t1iHi+wGkkS0C1C+vAPDcNS/rtUqw8AAAAASUVORK5CYII=)"
      ],
      "metadata": {
        "id": "oe4e9Pq86VUi"
      }
    },
    {
      "cell_type": "code",
      "source": [
        "def OR(inp1,inp2):\n",
        "    \"\"\"An OR gate.\n",
        "    \n",
        "    Parameters:\n",
        "        inpt1 (str): Input 1, encoded in qubit 0.\n",
        "        inpt2 (str): Input 2, encoded in qubit 1.\n",
        "        \n",
        "    Returns:\n",
        "        QuantumCircuit: Output XOR circuit.\n",
        "        str: Output value measured from qubit 2.\n",
        "    \"\"\"\n",
        "\n",
        "    qc = QuantumCircuit(3, 1) \n",
        "    qc.reset(range(3))\n",
        "    \n",
        "    if inp1=='1':\n",
        "        qc.x(0)\n",
        "    if inp2=='1':\n",
        "        qc.x(1)\n",
        "    \n",
        "    qc.barrier()\n",
        "   \n",
        "    # this is where your program for quantum OR gate goes\n",
        "    qc.x(0)\n",
        "    qc.x(1)\n",
        "    qc.ccx(0,1,2)\n",
        "    qc.x(2)\n",
        "    \n",
        "    qc.barrier()\n",
        "    qc.measure(2, 0) # output from qubit 2 is measured\n",
        "  \n",
        "    # We'll run the program on a simulator\n",
        "    backend = Aer.get_backend('aer_simulator')\n",
        "    # Since the output will be deterministic, we can use just a single shot to get it\n",
        "    job = backend.run(qc,shots=1,memory=True)\n",
        "    output = job.result().get_memory()[0]\n",
        "  \n",
        "    return qc, output"
      ],
      "metadata": {
        "id": "_dqi1fZA6bjw"
      },
      "execution_count": null,
      "outputs": []
    },
    {
      "cell_type": "code",
      "source": [
        "## Test the function\n",
        "for inp1 in ['0', '1']:\n",
        "    for inp2 in ['0', '1']:\n",
        "        qc, output = OR(inp1, inp2)\n",
        "        print('OR with inputs',inp1,inp2,'gives output',output)\n",
        "        display(qc.draw('mpl'))\n",
        "        print('\\n')"
      ],
      "metadata": {
        "colab": {
          "base_uri": "https://localhost:8080/",
          "height": 1000
        },
        "id": "6VMh2wmG6rGw",
        "outputId": "c96dcae9-addb-4645-d547-b00678058300"
      },
      "execution_count": null,
      "outputs": [
        {
          "output_type": "stream",
          "name": "stdout",
          "text": [
            "OR with inputs 0 0 gives output 0\n"
          ]
        },
        {
          "output_type": "display_data",
          "data": {
            "text/plain": [
              "<Figure size 507.997x264.88 with 1 Axes>"
            ],
            "image/png": "[encoded data removed]"
          },
          "metadata": {}
        },
        {
          "output_type": "stream",
          "name": "stdout",
          "text": [
            "\n",
            "\n",
            "OR with inputs 0 1 gives output 1\n"
          ]
        },
        {
          "output_type": "display_data",
          "data": {
            "text/plain": [
              "<Figure size 568.197x264.88 with 1 Axes>"
            ],
            "image/png": "[encoded data removed]"
          },
          "metadata": {}
        },
        {
          "output_type": "stream",
          "name": "stdout",
          "text": [
            "\n",
            "\n",
            "OR with inputs 1 0 gives output 1\n"
          ]
        },
        {
          "output_type": "display_data",
          "data": {
            "text/plain": [
              "<Figure size 568.197x264.88 with 1 Axes>"
            ],
            "image/png": "[encoded data removed]"
          },
          "metadata": {}
        },
        {
          "output_type": "stream",
          "name": "stdout",
          "text": [
            "\n",
            "\n",
            "OR with inputs 1 1 gives output 1\n"
          ]
        },
        {
          "output_type": "display_data",
          "data": {
            "text/plain": [
              "<Figure size 568.197x264.88 with 1 Axes>"
            ],
            "image/png": "[encoded data removed]"
          },
          "metadata": {}
        },
        {
          "output_type": "stream",
          "name": "stdout",
          "text": [
            "\n",
            "\n"
          ]
        }
      ]
    },
    {
      "cell_type": "markdown",
      "source": [
        "# Part 2: AND gate on Quantum Computer\n",
        "Goal\n",
        "\n",
        "Execute AND gate on a real quantum system and learn how the noise properties affect the result."
      ],
      "metadata": {
        "id": "G8pVmrxi9Ul1"
      }
    },
    {
      "cell_type": "code",
      "source": [
        "IBMQ.save_account('')\n",
        "IBMQ.load_account()"
      ],
      "metadata": {
        "colab": {
          "base_uri": "https://localhost:8080/"
        },
        "id": "bIvb-exA9eZN",
        "outputId": "2083fe4a-960f-400a-da31-81411e3e9490"
      },
      "execution_count": null,
      "outputs": [
        {
          "output_type": "execute_result",
          "data": {
            "text/plain": [
              "<AccountProvider for IBMQ(hub='ibm-q', group='open', project='main')>"
            ]
          },
          "metadata": {},
          "execution_count": 29
        }
      ]
    },
    {
      "cell_type": "code",
      "source": [
        "IBMQ.providers()"
      ],
      "metadata": {
        "colab": {
          "base_uri": "https://localhost:8080/"
        },
        "id": "CMev0DsY93aZ",
        "outputId": "d399e1a7-e705-4c6e-c64b-085ac4ce4997"
      },
      "execution_count": null,
      "outputs": [
        {
          "output_type": "execute_result",
          "data": {
            "text/plain": [
              "[<AccountProvider for IBMQ(hub='ibm-q', group='open', project='main')>]"
            ]
          },
          "metadata": {},
          "execution_count": 30
        }
      ]
    },
    {
      "cell_type": "code",
      "source": [
        "import qiskit.tools.jupyter\n",
        "\n",
        "backend_ex = provider.get_backend('ibmq_lima')\n",
        "backend_ex"
      ],
      "metadata": {
        "id": "sVJKVxhF_SMF"
      },
      "execution_count": null,
      "outputs": []
    },
    {
      "cell_type": "code",
      "source": [
        "from qiskit.providers.ibmq import least_busy\n",
        "backend = least_busy(provider.backends(filters=lambda x: x.configuration().n_qubits >= 2 and \n",
        "                                        not x.configuration().simulator and x.status().operational==True))\n",
        "backend"
      ],
      "metadata": {
        "colab": {
          "base_uri": "https://localhost:8080/",
          "height": 684,
          "referenced_widgets": [
            "a15c8ca0ecdb4fefab384f879a42a57b",
            "499830069a704b878ce8d3a20374a61e",
            "0cbbc0ed796e4d589dbd4f783ea1a3ef",
            "318ec33099834838a787e77e8c121c57",
            "057d94ef45bc47ffa06199a833c50de1",
            "c35d18b4b1cc49efac4ed78a1afbffea",
            "262f49c6c17a4e2689bfa3bf9a5afb1d",
            "1298bacf8576455da69fde614d1c5c00",
            "f61b89a0d47346a18012ef7fb35c3da3",
            "d5884f32cd22404cae54d425967cf5d9",
            "428dbaf6efce4242b0d0cebc833364a5",
            "f64562de885e404bb855e92cfcec9208",
            "2c3d3fae6c954e91b204107c71eb0c54",
            "5af960f9f40249beacd0b8700672d387",
            "bafca431a96248b492bda76b89f99864",
            "9ab4e8cf371c4ce8b5d27582c96a148e",
            "4ac51e8bb9da4b6bb04afdff99d18b1d",
            "cbb07d06454e4c1d945403e2db4af58e",
            "ac52feaa5ed14527bcd8eb88c234572e",
            "11fd4004237041ea8b1dbf0dc2ca4774",
            "01798c2fc7824330aab39070ca5ab986",
            "9139bf67f0f84e2bb8be639e45570dc2",
            "b8a3180dd2d6476da53e8e3a471f7ea0",
            "d24ae432166d40c1841af9ebe0c875f8",
            "a2b0464e7f5243078793635f06907a7c",
            "80a392ac77e943e893a6be9181644f75",
            "9dd299c273284ffa8f7dcf9034c56835",
            "060687e1918f4e4fa105612c2ecf303e",
            "a2e969c8956c43a1bf4b2bd332e9dd01",
            "57511d4686204ae7b8b44fbf72d99483",
            "1830b465ee0643bc9655fc7efa3b4038",
            "dc653c2ff2d84a258d06406e4fd1ed80",
            "c3fc833886bb47c4bd41aa30b59b396c",
            "0505699130754c7ab83d6ac11d21ed6d",
            "9baf213b13f5415891c6317469179ea2",
            "2aeec666a49041e092009c04075fffeb",
            "cf3c884de2c1474fa39c2561fe67ff91",
            "4f805107289042959aaf942734a4ee1a",
            "42a175c9e04c4dc5bbf03274315c3d8a",
            "02b70eb794914910a7902d6ed73295af",
            "cb8246b89c8745ecae1584a727e3498f",
            "11a0256126f74b03a04dd0fd7d8cd0c2",
            "05130539f120450aa853b4f5ba7e26e4"
          ]
        },
        "id": "xMo6s-n9_mte",
        "outputId": "bad4fde4-7970-41a6-ddff-7085025a49a6"
      },
      "execution_count": null,
      "outputs": [
        {
          "output_type": "display_data",
          "data": {
            "text/plain": [
              "VBox(children=(HTML(value=\"<h1 style='color:#ffffff;background-color:#000000;padding-top: 1%;padding-bottom: 1…"
            ],
            "application/vnd.jupyter.widget-view+json": {
              "version_major": 2,
              "version_minor": 0,
              "model_id": "a15c8ca0ecdb4fefab384f879a42a57b"
            }
          },
          "metadata": {}
        },
        {
          "output_type": "execute_result",
          "data": {
            "text/plain": [
              "<IBMQBackend('ibmq_jakarta') from IBMQ(hub='ibm-q', group='open', project='main')>"
            ]
          },
          "metadata": {},
          "execution_count": 36
        }
      ]
    },
    {
      "cell_type": "code",
      "source": [
        "# run this cell\n",
        "backend = provider.get_backend('ibmq_jakarta')"
      ],
      "metadata": {
        "id": "dV1dHFYB_9xo"
      },
      "execution_count": null,
      "outputs": []
    },
    {
      "cell_type": "markdown",
      "source": [
        "Step 2. Define AND function for a real device"
      ],
      "metadata": {
        "id": "EbMUKTPWAHZJ"
      }
    },
    {
      "cell_type": "code",
      "source": [
        "qc_and = QuantumCircuit(3)\n",
        "qc_and.ccx(0,1,2)\n",
        "print('AND gate')\n",
        "display(qc_and.draw('mpl'))\n",
        "print('\\n\\nTranspiled AND gate with all the required connectivity')\n",
        "qc_and.decompose().draw('mpl')"
      ],
      "metadata": {
        "colab": {
          "base_uri": "https://localhost:8080/",
          "height": 422
        },
        "id": "6e-c4qvRAIIz",
        "outputId": "cc8fded5-6f3f-42dd-8b69-88223a3287b6"
      },
      "execution_count": null,
      "outputs": [
        {
          "output_type": "stream",
          "name": "stdout",
          "text": [
            "AND gate\n"
          ]
        },
        {
          "output_type": "display_data",
          "data": {
            "text/plain": [
              "<Figure size 146.797x204.68 with 1 Axes>"
            ],
            "image/png": "[encoded data removed]"
          },
          "metadata": {}
        },
        {
          "output_type": "stream",
          "name": "stdout",
          "text": [
            "\n",
            "\n",
            "Transpiled AND gate with all the required connectivity\n"
          ]
        },
        {
          "output_type": "execute_result",
          "data": {
            "text/plain": [
              "<Figure size 748.797x204.68 with 1 Axes>"
            ],
            "image/png": "[encoded data removed]"
          },
          "metadata": {},
          "execution_count": 39
        }
      ]
    },
    {
      "cell_type": "code",
      "source": [
        "from qiskit.tools.monitor import job_monitor"
      ],
      "metadata": {
        "id": "Boxs-PD6AmXU"
      },
      "execution_count": null,
      "outputs": []
    },
    {
      "cell_type": "code",
      "source": [
        "# run the cell to define AND gate for real quantum system\n",
        "\n",
        "def AND(inp1, inp2, backend, layout):\n",
        "    \n",
        "    qc = QuantumCircuit(3, 1) \n",
        "    qc.reset(range(3))\n",
        "    \n",
        "    if inp1=='1':\n",
        "        qc.x(0)\n",
        "    if inp2=='1':\n",
        "        qc.x(1)\n",
        "        \n",
        "    qc.barrier()\n",
        "    qc.ccx(0, 1, 2) \n",
        "    qc.barrier()\n",
        "    qc.measure(2, 0) \n",
        "  \n",
        "    qc_trans = transpile(qc, backend, initial_layout=layout, optimization_level=3)\n",
        "    job = backend.run(qc_trans, shots=8192)\n",
        "    print(job.job_id())\n",
        "    job_monitor(job)\n",
        "    \n",
        "    output = job.result().get_counts()\n",
        "    \n",
        "    return qc_trans, output"
      ],
      "metadata": {
        "id": "ZmIEmhN2ApVt"
      },
      "execution_count": null,
      "outputs": []
    },
    {
      "cell_type": "code",
      "source": [
        "backend"
      ],
      "metadata": {
        "colab": {
          "base_uri": "https://localhost:8080/",
          "height": 684,
          "referenced_widgets": [
            "3cd036347a2d4178ad777db218cafc33",
            "e3e45437d7994992aade718af397a902",
            "ab0a369282734cddaf90e309b7a5bdfd",
            "6ebdd4e413d14358ae167fedf451acba",
            "19c77a172aed471db3b7768871053d32",
            "57655e0d395d48dfb27386b0b262461b",
            "3aae70aa4f364561bc52918a94411e86",
            "633d9d2d66f14b308ebd401cf6ca96f9",
            "e325603dd61343648ca41d0d3188c09d",
            "f9cb7f53fa004490ad61351d1efedf66",
            "fbbd86b07a2844a28a56c328ba248434",
            "c34d5bd65c1940858e4eb5a5bd608c9e",
            "05467feac64042f5aa549c98b10afbd3",
            "ae56792c40104b1385b326dee36b5af8",
            "f50e905b388a487f9083d6ed0a7d6686",
            "09ddec0198b442749c0b6c7f5a710131",
            "3d35f0614131450ea5e098680fff2830",
            "08186b9acafa4ca8bd94fc18a2b75baa",
            "f23a31bf88fd423481d167f967c91660",
            "e805c70dbb1f4887a2eea6990e6daf92",
            "ded8eb2da5384128bce83b121f4f1657",
            "2890f0fa32d448049e4aecb125c2c60e",
            "ba6f148fcd044c2c882e8af477617dce",
            "562b1752dbfd42c898613158fb5dc32c",
            "70c37cb12b574bc3ac8ad23bf3207ed0",
            "aa1642ad3ee04da0907f9bcf2b0a0b7f",
            "a469d197747447678da5c90dd881da57",
            "b53e8d9abd58415f8057eecb7443d714",
            "e6bb0086831244d880fc8fc4b0416834",
            "b32b4f1069454223bbc90d0ed65e6574",
            "c113f1935f2b4e5eb1638e8ab0eb7fef",
            "2cdbc081dc3f4583b6155e542e77671f",
            "a8424b9f18c44bffb2ff1e3007b00f76",
            "c0ecab795e7345c6814649a9fc747c26",
            "a4258cd9679b40ad9169158bd6985c2f",
            "55e88b2ac96c4fafa21effc11c17e177",
            "caf40e8e5c784a3d86b21277043087c6",
            "6514aba580274f288c50d92a63447719",
            "8984c0233ab64e4aafc3719d9190837c",
            "8b5c96b1032c4c5d8261fa5f6ba4de97",
            "615f6ebc8a65442b949b89ccf3926afa",
            "887f4c59d62c4761950cfb30bc6ec06d",
            "cc0674f709114460aca1a3703373db08"
          ]
        },
        "id": "g8ad44wVAxug",
        "outputId": "3b1a5902-485d-4f3e-98bd-8eb5d94e14b6"
      },
      "execution_count": null,
      "outputs": [
        {
          "output_type": "display_data",
          "data": {
            "text/plain": [
              "VBox(children=(HTML(value=\"<h1 style='color:#ffffff;background-color:#000000;padding-top: 1%;padding-bottom: 1…"
            ],
            "application/vnd.jupyter.widget-view+json": {
              "version_major": 2,
              "version_minor": 0,
              "model_id": "3cd036347a2d4178ad777db218cafc33"
            }
          },
          "metadata": {}
        },
        {
          "output_type": "execute_result",
          "data": {
            "text/plain": [
              "<IBMQBackend('ibmq_jakarta') from IBMQ(hub='ibm-q', group='open', project='main')>"
            ]
          },
          "metadata": {},
          "execution_count": 42
        }
      ]
    },
    {
      "cell_type": "code",
      "source": [
        "layout = [0,1,2]"
      ],
      "metadata": {
        "id": "6a3pEJ02BHoZ"
      },
      "execution_count": null,
      "outputs": []
    },
    {
      "cell_type": "code",
      "source": [
        "output_all = []\n",
        "qc_trans_all = []\n",
        "prob_all = []\n",
        "\n",
        "worst = 1\n",
        "best = 0\n",
        "for input1 in ['0','1']:\n",
        "    for input2 in ['0','1']:\n",
        "        qc_trans, output = AND(input1, input2, backend, layout)\n",
        "        \n",
        "        output_all.append(output)\n",
        "        qc_trans_all.append(qc_trans)\n",
        "        \n",
        "        prob = output[str(int( input1=='1' and input2=='1' ))]/8192\n",
        "        prob_all.append(prob)\n",
        "        \n",
        "        print('\\nProbability of correct answer for inputs',input1,input2)\n",
        "        print('{:.2f}'.format(prob) )\n",
        "        print('---------------------------------')\n",
        "        \n",
        "        worst = min(worst,prob)\n",
        "        best = max(best, prob)\n",
        "        \n",
        "print('')\n",
        "print('\\nThe highest of these probabilities was {:.2f}'.format(best))\n",
        "print('The lowest of these probabilities was {:.2f}'.format(worst))"
      ],
      "metadata": {
        "colab": {
          "base_uri": "https://localhost:8080/",
          "height": 503
        },
        "id": "X6dy0okqBJDT",
        "outputId": "7ed060cc-b11e-48e9-eaa4-19f248932c0c"
      },
      "execution_count": null,
      "outputs": [
        {
          "output_type": "stream",
          "name": "stdout",
          "text": [
            "6410e844d9ff78a12905e743\n",
            "Job Status: job has successfully run\n",
            "\n",
            "Probability of correct answer for inputs 0 0\n",
            "0.83\n",
            "---------------------------------\n",
            "6410e85ab3c2d16080b0ea3c\n",
            "Job Status: job has successfully run\n",
            "\n",
            "Probability of correct answer for inputs 0 1\n",
            "0.90\n",
            "---------------------------------\n",
            "6410e86eb3c2d110c0b0ea40\n",
            "Job Status: job has successfully run\n",
            "\n",
            "Probability of correct answer for inputs 1 0\n",
            "0.91\n",
            "---------------------------------\n",
            "6410e882d9ff782ebe05e746\n",
            "Job Status: job has successfully run\n",
            "\n",
            "Probability of correct answer for inputs 1 1\n",
            "0.83\n",
            "---------------------------------\n",
            "\n",
            "\n",
            "The highest of these probabilities was 0.91\n",
            "The lowest of these probabilities was 0.83\n"
          ]
        }
      ]
    },
    {
      "cell_type": "code",
      "source": [
        "print('Transpiled AND gate circuit for ibmq_vigo with input 0 0')\n",
        "print('\\nThe circuit depth : {}'.format (qc_trans_all[0].depth()))\n",
        "print('# of nonlocal gates : {}'.format (qc_trans_all[0].num_nonlocal_gates()))\n",
        "print('Probability of correct answer : {:.2f}'.format(prob_all[0]) )\n",
        "qc_trans_all[0].draw('mpl')"
      ],
      "metadata": {
        "colab": {
          "base_uri": "https://localhost:8080/",
          "height": 510
        },
        "id": "tGCRVUVJDdeT",
        "outputId": "18b7f37b-48bf-4279-e563-c3a8ebd3dcb1"
      },
      "execution_count": null,
      "outputs": [
        {
          "output_type": "stream",
          "name": "stdout",
          "text": [
            "Transpiled AND gate circuit for ibmq_vigo with input 0 0\n",
            "\n",
            "The circuit depth : 21\n",
            "# of nonlocal gates : 15\n",
            "Probability of correct answer : 0.83\n"
          ]
        },
        {
          "output_type": "execute_result",
          "data": {
            "text/plain": [
              "<Figure size 1563.93x505.68 with 1 Axes>"
            ],
            "image/png": "[encoded data removed]"
          },
          "metadata": {},
          "execution_count": 48
        }
      ]
    },
    {
      "cell_type": "code",
      "source": [
        "print('Transpiled AND gate circuit for ibmq_vigo with input 0 1')\n",
        "print('\\nThe circuit depth : {}'.format (qc_trans_all[1].depth()))\n",
        "print('# of nonlocal gates : {}'.format (qc_trans_all[1].num_nonlocal_gates()))\n",
        "print('Probability of correct answer : {:.2f}'.format(prob_all[1]) )\n",
        "qc_trans_all[1].draw('mpl')"
      ],
      "metadata": {
        "colab": {
          "base_uri": "https://localhost:8080/",
          "height": 510
        },
        "id": "KakBvD8mDkPH",
        "outputId": "d9d1e224-a6ba-41aa-b203-50401061b1bb"
      },
      "execution_count": null,
      "outputs": [
        {
          "output_type": "stream",
          "name": "stdout",
          "text": [
            "Transpiled AND gate circuit for ibmq_vigo with input 0 1\n",
            "\n",
            "The circuit depth : 22\n",
            "# of nonlocal gates : 15\n",
            "Probability of correct answer : 0.90\n"
          ]
        },
        {
          "output_type": "execute_result",
          "data": {
            "text/plain": [
              "<Figure size 1624.13x505.68 with 1 Axes>"
            ],
            "image/png": "[encoded data removed]"
          },
          "metadata": {},
          "execution_count": 50
        }
      ]
    },
    {
      "cell_type": "code",
      "source": [
        "print('Transpiled AND gate circuit for ibmq_vigo with input 1 0')\n",
        "print('\\nThe circuit depth : {}'.format (qc_trans_all[2].depth()))\n",
        "print('# of nonlocal gates : {}'.format (qc_trans_all[2].num_nonlocal_gates()))\n",
        "print('Probability of correct answer : {:.2f}'.format(prob_all[2]) )\n",
        "qc_trans_all[2].draw('mpl')"
      ],
      "metadata": {
        "colab": {
          "base_uri": "https://localhost:8080/",
          "height": 510
        },
        "id": "yjzrp6ogDpCO",
        "outputId": "aec88492-8c83-4284-c513-b76b87fba46a"
      },
      "execution_count": null,
      "outputs": [
        {
          "output_type": "stream",
          "name": "stdout",
          "text": [
            "Transpiled AND gate circuit for ibmq_vigo with input 1 0\n",
            "\n",
            "The circuit depth : 22\n",
            "# of nonlocal gates : 15\n",
            "Probability of correct answer : 0.91\n"
          ]
        },
        {
          "output_type": "execute_result",
          "data": {
            "text/plain": [
              "<Figure size 1624.13x505.68 with 1 Axes>"
            ],
            "image/png": "[encoded data removed]"
          },
          "metadata": {},
          "execution_count": 51
        }
      ]
    },
    {
      "cell_type": "code",
      "source": [
        "print('Transpiled AND gate circuit for ibmq_vigo with input 1 1')\n",
        "print('\\nThe circuit depth : {}'.format (qc_trans_all[3].depth()))\n",
        "print('# of nonlocal gates : {}'.format (qc_trans_all[3].num_nonlocal_gates()))\n",
        "print('Probability of correct answer : {:.2f}'.format(prob_all[3]) )\n",
        "qc_trans_all[3].draw('mpl')"
      ],
      "metadata": {
        "colab": {
          "base_uri": "https://localhost:8080/",
          "height": 510
        },
        "id": "xeeXMMXfDsmZ",
        "outputId": "638939c6-e3bd-49cd-ffae-2748c99f5988"
      },
      "execution_count": null,
      "outputs": [
        {
          "output_type": "stream",
          "name": "stdout",
          "text": [
            "Transpiled AND gate circuit for ibmq_vigo with input 1 1\n",
            "\n",
            "The circuit depth : 22\n",
            "# of nonlocal gates : 15\n",
            "Probability of correct answer : 0.83\n"
          ]
        },
        {
          "output_type": "execute_result",
          "data": {
            "text/plain": [
              "<Figure size 1624.13x505.68 with 1 Axes>"
            ],
            "image/png": "[encoded data removed]"
          },
          "metadata": {},
          "execution_count": 52
        }
      ]
    }
  ]
}