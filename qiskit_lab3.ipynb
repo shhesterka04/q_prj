{
  "nbformat": 4,
  "nbformat_minor": 0,
  "metadata": {
    "colab": {
      "provenance": [],
      "authorship_tag": "ABX9TyP7mJwlJ4UtNjA8aD2PtZdd",
      "include_colab_link": true
    },
    "kernelspec": {
      "name": "python3",
      "display_name": "Python 3"
    },
    "language_info": {
      "name": "python"
    }
  },
  "cells": [
    {
      "cell_type": "markdown",
      "metadata": {
        "id": "view-in-github",
        "colab_type": "text"
      },
      "source": [
        "<a href=\"https://colab.research.google.com/github/shhesterka04/q_prj/blob/main/qiskit_lab3.ipynb\" target=\"_parent\"><img src=\"https://colab.research.google.com/assets/colab-badge.svg\" alt=\"Open In Colab\"/></a>"
      ]
    },
    {
      "cell_type": "markdown",
      "source": [
        "# [Lab 3 Quantum Measurements](https://learn.qiskit.org/course/ch-labs/lab-3-quantum-measurements)"
      ],
      "metadata": {
        "id": "DWgLQub8iCWN"
      }
    },
    {
      "cell_type": "code",
      "execution_count": null,
      "metadata": {
        "id": "NmVHd0psg8HM"
      },
      "outputs": [],
      "source": [
        "!pip install qiskit \n",
        "!pip install pylatexenc\n",
        "%matplotlib inline"
      ]
    },
    {
      "cell_type": "code",
      "source": [
        "from qiskit import *\n",
        "import numpy as np\n",
        "from numpy import linalg as la\n",
        "from qiskit.tools.monitor import job_monitor\n",
        "import qiskit.tools.jupyter\n"
      ],
      "metadata": {
        "id": "QAFv4TW3hpYZ"
      },
      "execution_count": 2,
      "outputs": []
    },
    {
      "cell_type": "markdown",
      "source": [
        "# Part 1: Measuring the state of a qubit\n",
        "**Goal**\n",
        "\n",
        "Determine the Bloch components of a qubit"
      ],
      "metadata": {
        "id": "gXIJQjDvjNkR"
      }
    },
    {
      "cell_type": "code",
      "source": [
        "from qiskit.providers.job import JobV1\n",
        "from random import random, randint\n",
        "import math\n",
        "qc = QuantumCircuit(1)\n",
        "\n",
        "a = random()*10\n",
        "b = random()*10\n",
        "c = math.sqrt(a**2+b**2)\n",
        "a = a/c\n",
        "b = b/c\n",
        "\n",
        "\n",
        "desired_vector = [a,b]\n",
        "qc.initialize(desired_vector)\n",
        "qc.draw()"
      ],
      "metadata": {
        "id": "D8RcU2go58f2",
        "outputId": "9c4f8905-4eca-4310-cba5-e1f7d9ccd12e",
        "colab": {
          "base_uri": "https://localhost:8080/",
          "height": 63
        }
      },
      "execution_count": 24,
      "outputs": [
        {
          "output_type": "execute_result",
          "data": {
            "text/plain": [
              "   ┌────────────────────────────┐\n",
              "q: ┤ Initialize(0.5912,0.80653) ├\n",
              "   └────────────────────────────┘"
            ],
            "text/html": [
              "<pre style=\"word-wrap: normal;white-space: pre;background: #fff0;line-height: 1.1;font-family: &quot;Courier New&quot;,Courier,monospace\">   ┌────────────────────────────┐\n",
              "q: ┤ Initialize(0.5912,0.80653) ├\n",
              "   └────────────────────────────┘</pre>"
            ]
          },
          "metadata": {},
          "execution_count": 24
        }
      ]
    },
    {
      "cell_type": "code",
      "source": [
        "# z measurement of qubit 0\n",
        "measure_z = QuantumCircuit(1,1)\n",
        "measure_z.measure(0,0)\n",
        "\n",
        "# x measurement of qubit 0\n",
        "measure_x = QuantumCircuit(1,1)\n",
        "# your code goes here\n",
        "measure_x.measure(0,0)\n",
        "\n",
        "\n",
        "\n",
        "\n",
        "\n",
        "\n",
        "# y measurement of qubit 0\n",
        "measure_y = QuantumCircuit(1,1)\n",
        "# your code goes here\n",
        "measure_y.measure(0,0)\n",
        "\n",
        "\n",
        "\n",
        "\n",
        "\n",
        "shots = 2**14 # number of samples used for statistics\n",
        "sim = Aer.get_backend('qasm_simulator')\n",
        "bloch_vector_measure = []\n",
        "for measure_circuit in [measure_x, measure_y, measure_z]:\n",
        "    \n",
        "    # run the circuit with a the selected measurement and get the number of samples that output each bit value\n",
        "    counts = execute(qc+measure_circuit, sim, shots=shots).result().get_counts()\n",
        "\n",
        "    # calculate the probabilities for each bit value\n",
        "    probs = {}\n",
        "    for output in ['0','1']:\n",
        "        if output in counts:\n",
        "            probs[output] = counts[output]/shots\n",
        "        else:\n",
        "            probs[output] = 0\n",
        "            \n",
        "    bloch_vector_measure.append( probs['0'] -  probs['1'] )\n",
        "\n",
        "# normalizing the bloch sphere vector\n",
        "bloch_vector = bloch_vector_measure/la.norm(bloch_vector_measure)\n",
        "\n",
        "print('The bloch sphere coordinates are [{0:4.3f}, {1:4.3f}, {2:4.3f}]'\n",
        "      .format(*bloch_vector))"
      ],
      "metadata": {
        "id": "yZbnz6gxBXh4",
        "outputId": "232dc2ba-7bb2-4aeb-aa37-295a9a33b61c",
        "colab": {
          "base_uri": "https://localhost:8080/",
          "height": 235
        }
      },
      "execution_count": 25,
      "outputs": [
        {
          "output_type": "error",
          "ename": "TypeError",
          "evalue": "ignored",
          "traceback": [
            "\u001b[0;31m---------------------------------------------------------------------------\u001b[0m",
            "\u001b[0;31mTypeError\u001b[0m                                 Traceback (most recent call last)",
            "\u001b[0;32m<ipython-input-25-59d3c6becff3>\u001b[0m in \u001b[0;36m<module>\u001b[0;34m\u001b[0m\n\u001b[1;32m     28\u001b[0m \u001b[0;34m\u001b[0m\u001b[0m\n\u001b[1;32m     29\u001b[0m     \u001b[0;31m# run the circuit with a the selected measurement and get the number of samples that output each bit value\u001b[0m\u001b[0;34m\u001b[0m\u001b[0;34m\u001b[0m\u001b[0m\n\u001b[0;32m---> 30\u001b[0;31m     \u001b[0mcounts\u001b[0m \u001b[0;34m=\u001b[0m \u001b[0mexecute\u001b[0m\u001b[0;34m(\u001b[0m\u001b[0mqc\u001b[0m\u001b[0;34m+\u001b[0m\u001b[0mmeasure_circuit\u001b[0m\u001b[0;34m,\u001b[0m \u001b[0msim\u001b[0m\u001b[0;34m,\u001b[0m \u001b[0mshots\u001b[0m\u001b[0;34m=\u001b[0m\u001b[0mshots\u001b[0m\u001b[0;34m)\u001b[0m\u001b[0;34m.\u001b[0m\u001b[0mresult\u001b[0m\u001b[0;34m(\u001b[0m\u001b[0;34m)\u001b[0m\u001b[0;34m.\u001b[0m\u001b[0mget_counts\u001b[0m\u001b[0;34m(\u001b[0m\u001b[0;34m)\u001b[0m\u001b[0;34m\u001b[0m\u001b[0;34m\u001b[0m\u001b[0m\n\u001b[0m\u001b[1;32m     31\u001b[0m \u001b[0;34m\u001b[0m\u001b[0m\n\u001b[1;32m     32\u001b[0m     \u001b[0;31m# calculate the probabilities for each bit value\u001b[0m\u001b[0;34m\u001b[0m\u001b[0;34m\u001b[0m\u001b[0m\n",
            "\u001b[0;31mTypeError\u001b[0m: unsupported operand type(s) for +: 'QuantumCircuit' and 'QuantumCircuit'"
          ]
        }
      ]
    }
  ]
}