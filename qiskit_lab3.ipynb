{
  "nbformat": 4,
  "nbformat_minor": 0,
  "metadata": {
    "colab": {
      "provenance": [],
      "authorship_tag": "ABX9TyP78zrMuERKV5pHdsK+j1tu",
      "include_colab_link": true
    },
    "kernelspec": {
      "name": "python3",
      "display_name": "Python 3"
    },
    "language_info": {
      "name": "python"
    }
  },
  "cells": [
    {
      "cell_type": "markdown",
      "metadata": {
        "id": "view-in-github",
        "colab_type": "text"
      },
      "source": [
        "<a href=\"https://colab.research.google.com/github/shhesterka04/q_prj/blob/main/qiskit_lab3.ipynb\" target=\"_parent\"><img src=\"https://colab.research.google.com/assets/colab-badge.svg\" alt=\"Open In Colab\"/></a>"
      ]
    },
    {
      "cell_type": "markdown",
      "source": [
        "# [Lab 3 Quantum Measurements](https://learn.qiskit.org/course/ch-labs/lab-3-quantum-measurements)"
      ],
      "metadata": {
        "id": "DWgLQub8iCWN"
      }
    },
    {
      "cell_type": "code",
      "execution_count": null,
      "metadata": {
        "id": "NmVHd0psg8HM"
      },
      "outputs": [],
      "source": [
        "!pip install qiskit \n",
        "!pip install pylatexenc\n",
        "%matplotlib inline"
      ]
    },
    {
      "cell_type": "code",
      "source": [
        "from qiskit import *\n",
        "import numpy as np\n",
        "from numpy import linalg as la\n",
        "from qiskit.tools.monitor import job_monitor\n",
        "import qiskit.tools.jupyter"
      ],
      "metadata": {
        "id": "QAFv4TW3hpYZ"
      },
      "execution_count": null,
      "outputs": []
    },
    {
      "cell_type": "markdown",
      "source": [
        "# Part 1: Measuring the state of a qubit\n",
        "**Goal**\n",
        "\n",
        "Determine the Bloch components of a qubit"
      ],
      "metadata": {
        "id": "gXIJQjDvjNkR"
      }
    },
    {
      "cell_type": "code",
      "source": [
        "A = "
      ],
      "metadata": {
        "id": "QstYXFEZltEH"
      },
      "execution_count": null,
      "outputs": []
    }
  ]
}