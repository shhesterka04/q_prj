{
  "nbformat": 4,
  "nbformat_minor": 0,
  "metadata": {
    "colab": {
      "provenance": [],
      "authorship_tag": "ABX9TyNH2fQp1Q411Vj0+p+hJFZ4",
      "include_colab_link": true
    },
    "kernelspec": {
      "name": "python3",
      "display_name": "Python 3"
    },
    "language_info": {
      "name": "python"
    }
  },
  "cells": [
    {
      "cell_type": "markdown",
      "metadata": {
        "id": "view-in-github",
        "colab_type": "text"
      },
      "source": [
        "<a href=\"https://colab.research.google.com/github/shhesterka04/q_prj/blob/main/Deutsch_Josza.ipynb\" target=\"_parent\"><img src=\"https://colab.research.google.com/assets/colab-badge.svg\" alt=\"Open In Colab\"/></a>"
      ]
    },
    {
      "cell_type": "markdown",
      "source": [
        "Реализация алгоритма Дойча-Йожи"
      ],
      "metadata": {
        "id": "2LTGi-894f10"
      }
    },
    {
      "cell_type": "code",
      "source": [
        "!pip install qiskit --quiet"
      ],
      "metadata": {
        "id": "viC3jlKu4tmj"
      },
      "execution_count": null,
      "outputs": []
    },
    {
      "cell_type": "code",
      "execution_count": 4,
      "metadata": {
        "colab": {
          "base_uri": "https://localhost:8080/",
          "height": 435
        },
        "id": "14Tsa11p4W3s",
        "outputId": "4ff27ebe-1029-4efd-eb78-2318c574aae0"
      },
      "outputs": [
        {
          "output_type": "stream",
          "name": "stderr",
          "text": [
            "<ipython-input-4-8e93f4a3eba3>:46: DeprecationWarning: Using a qobj for run() is deprecated as of qiskit-aer 0.9.0 and will be removed no sooner than 3 months from that release date. Transpiled circuits should now be passed directly using `backend.run(circuits, **run_options).\n",
            "  results = qasm_backend.run(qobj).result()\n"
          ]
        },
        {
          "output_type": "error",
          "ename": "TypeError",
          "evalue": "ignored",
          "traceback": [
            "\u001b[0;31m---------------------------------------------------------------------------\u001b[0m",
            "\u001b[0;31mTypeError\u001b[0m                                 Traceback (most recent call last)",
            "\u001b[0;32m<ipython-input-4-8e93f4a3eba3>\u001b[0m in \u001b[0;36m<module>\u001b[0;34m\u001b[0m\n\u001b[1;32m     56\u001b[0m \u001b[0;34m\u001b[0m\u001b[0m\n\u001b[1;32m     57\u001b[0m     \u001b[0;31m# Test with a constant function\u001b[0m\u001b[0;34m\u001b[0m\u001b[0;34m\u001b[0m\u001b[0m\n\u001b[0;32m---> 58\u001b[0;31m     \u001b[0mtest_deutsch_josza\u001b[0m\u001b[0;34m(\u001b[0m\u001b[0minput_size\u001b[0m\u001b[0;34m,\u001b[0m \u001b[0mconstant\u001b[0m\u001b[0;34m=\u001b[0m\u001b[0;32mTrue\u001b[0m\u001b[0;34m)\u001b[0m\u001b[0;34m\u001b[0m\u001b[0;34m\u001b[0m\u001b[0m\n\u001b[0m\u001b[1;32m     59\u001b[0m \u001b[0;34m\u001b[0m\u001b[0m\n\u001b[1;32m     60\u001b[0m     \u001b[0;31m# Test with a balanced function\u001b[0m\u001b[0;34m\u001b[0m\u001b[0;34m\u001b[0m\u001b[0m\n",
            "\u001b[0;32m<ipython-input-4-8e93f4a3eba3>\u001b[0m in \u001b[0;36mtest_deutsch_josza\u001b[0;34m(input_size, constant, permute)\u001b[0m\n\u001b[1;32m     44\u001b[0m     \u001b[0mtqc\u001b[0m \u001b[0;34m=\u001b[0m \u001b[0mtranspile\u001b[0m\u001b[0;34m(\u001b[0m\u001b[0mtest_circuit\u001b[0m\u001b[0;34m,\u001b[0m \u001b[0mqasm_backend\u001b[0m\u001b[0;34m)\u001b[0m\u001b[0;34m\u001b[0m\u001b[0;34m\u001b[0m\u001b[0m\n\u001b[1;32m     45\u001b[0m     \u001b[0mqobj\u001b[0m \u001b[0;34m=\u001b[0m \u001b[0massemble\u001b[0m\u001b[0;34m(\u001b[0m\u001b[0mtqc\u001b[0m\u001b[0;34m,\u001b[0m \u001b[0mshots\u001b[0m\u001b[0;34m=\u001b[0m\u001b[0;36m1024\u001b[0m\u001b[0;34m)\u001b[0m\u001b[0;34m\u001b[0m\u001b[0;34m\u001b[0m\u001b[0m\n\u001b[0;32m---> 46\u001b[0;31m     \u001b[0mresults\u001b[0m \u001b[0;34m=\u001b[0m \u001b[0mqasm_backend\u001b[0m\u001b[0;34m.\u001b[0m\u001b[0mrun\u001b[0m\u001b[0;34m(\u001b[0m\u001b[0mqobj\u001b[0m\u001b[0;34m)\u001b[0m\u001b[0;34m.\u001b[0m\u001b[0mresult\u001b[0m\u001b[0;34m(\u001b[0m\u001b[0;34m)\u001b[0m\u001b[0;34m\u001b[0m\u001b[0;34m\u001b[0m\u001b[0m\n\u001b[0m\u001b[1;32m     47\u001b[0m     \u001b[0mcounts\u001b[0m \u001b[0;34m=\u001b[0m \u001b[0mresults\u001b[0m\u001b[0;34m.\u001b[0m\u001b[0mget_counts\u001b[0m\u001b[0;34m(\u001b[0m\u001b[0;34m)\u001b[0m\u001b[0;34m\u001b[0m\u001b[0;34m\u001b[0m\u001b[0m\n\u001b[1;32m     48\u001b[0m \u001b[0;34m\u001b[0m\u001b[0m\n",
            "\u001b[0;32m/usr/local/lib/python3.9/dist-packages/qiskit_aer/backends/aerbackend.py\u001b[0m in \u001b[0;36mrun\u001b[0;34m(self, circuits, validate, parameter_binds, **run_options)\u001b[0m\n\u001b[1;32m    194\u001b[0m                 \u001b[0;32mif\u001b[0m \u001b[0;34m'parameter_binds'\u001b[0m \u001b[0;32min\u001b[0m \u001b[0mrun_options\u001b[0m\u001b[0;34m:\u001b[0m\u001b[0;34m\u001b[0m\u001b[0;34m\u001b[0m\u001b[0m\n\u001b[1;32m    195\u001b[0m                     \u001b[0mparameter_binds\u001b[0m \u001b[0;34m=\u001b[0m \u001b[0mrun_options\u001b[0m\u001b[0;34m.\u001b[0m\u001b[0mpop\u001b[0m\u001b[0;34m(\u001b[0m\u001b[0;34m'parameter_binds'\u001b[0m\u001b[0;34m)\u001b[0m\u001b[0;34m\u001b[0m\u001b[0;34m\u001b[0m\u001b[0m\n\u001b[0;32m--> 196\u001b[0;31m             \u001b[0;32mreturn\u001b[0m \u001b[0mself\u001b[0m\u001b[0;34m.\u001b[0m\u001b[0m_run_qobj\u001b[0m\u001b[0;34m(\u001b[0m\u001b[0mcircuits\u001b[0m\u001b[0;34m,\u001b[0m \u001b[0mvalidate\u001b[0m\u001b[0;34m,\u001b[0m \u001b[0mparameter_binds\u001b[0m\u001b[0;34m,\u001b[0m \u001b[0;34m**\u001b[0m\u001b[0mrun_options\u001b[0m\u001b[0;34m)\u001b[0m\u001b[0;34m\u001b[0m\u001b[0;34m\u001b[0m\u001b[0m\n\u001b[0m\u001b[1;32m    197\u001b[0m \u001b[0;34m\u001b[0m\u001b[0m\n\u001b[1;32m    198\u001b[0m         \u001b[0monly_circuits\u001b[0m \u001b[0;34m=\u001b[0m \u001b[0;32mTrue\u001b[0m\u001b[0;34m\u001b[0m\u001b[0;34m\u001b[0m\u001b[0m\n",
            "\u001b[0;31mTypeError\u001b[0m: _run_qobj() got multiple values for argument 'parameter_binds'"
          ]
        }
      ],
      "source": [
        "import numpy as np\n",
        "from qiskit import QuantumCircuit, Aer, transpile, assemble\n",
        "from qiskit.visualization import plot_histogram\n",
        "from qiskit.circuit.library import Permutation\n",
        "\n",
        "def oracle(constant, input_size, permute=None):\n",
        "    circuit = QuantumCircuit(input_size + 1)\n",
        "\n",
        "    if not constant:\n",
        "        if permute is None:\n",
        "            permute = np.random.permutation(2 ** input_size)\n",
        "\n",
        "        permutation_gate = Permutation(input_size, permute).control(1)\n",
        "        circuit.append(permutation_gate, range(input_size + 1))\n",
        "\n",
        "    return circuit\n",
        "\n",
        "def deutsch_josza(input_size, oracle):\n",
        "    circuit = QuantumCircuit(input_size + 1, input_size)\n",
        "    \n",
        "    circuit.x(input_size)\n",
        "    circuit.barrier()\n",
        "    \n",
        "    for i in range(input_size + 1):\n",
        "        circuit.h(i)\n",
        "\n",
        "    circuit.barrier()\n",
        "    circuit.compose(oracle, inplace=True)\n",
        "    \n",
        "    circuit.barrier()\n",
        "    for i in range(input_size):\n",
        "        circuit.h(i)\n",
        "\n",
        "    circuit.barrier()\n",
        "    for i in range(input_size):\n",
        "        circuit.measure(i, i)\n",
        "\n",
        "    return circuit\n",
        "\n",
        "def test_deutsch_josza(input_size, constant, permute=None):\n",
        "    test_oracle = oracle(constant, input_size, permute)\n",
        "    test_circuit = deutsch_josza(input_size, test_oracle)\n",
        "    qasm_backend = Aer.get_backend('qasm_simulator')\n",
        "    tqc = transpile(test_circuit, qasm_backend)\n",
        "    qobj = assemble(tqc, shots=1024)\n",
        "    results = qasm_backend.run(qobj).result()\n",
        "    counts = results.get_counts()\n",
        "\n",
        "    if '0' * input_size in counts:\n",
        "        print(\"The function is constant.\")\n",
        "    else:\n",
        "        print(\"The function is balanced.\")\n",
        "\n",
        "if __name__ == '__main__':\n",
        "    input_size = 3\n",
        "\n",
        "    # Test with a constant function\n",
        "    test_deutsch_josza(input_size, constant=True)\n",
        "\n",
        "    # Test with a balanced function\n",
        "    test_deutsch_josza(input_size, constant=False)\n"
      ]
    }
  ]
}